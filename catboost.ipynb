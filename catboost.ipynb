{
 "cells": [
  {
   "cell_type": "code",
   "execution_count": 1,
   "metadata": {},
   "outputs": [
    {
     "name": "stdout",
     "output_type": "stream",
     "text": [
      "Populating the interactive namespace from numpy and matplotlib\n"
     ]
    }
   ],
   "source": [
    "%pylab inline"
   ]
  },
  {
   "cell_type": "code",
   "execution_count": 2,
   "metadata": {},
   "outputs": [],
   "source": [
    "import pandas as pd"
   ]
  },
  {
   "cell_type": "code",
   "execution_count": null,
   "metadata": {},
   "outputs": [],
   "source": [
    "# none = pd.concat([pd.read_csv(\"./none/hello_world_from_dima1555413791.csv\"), pd.read_csv(\"./none/hello_world_from_dima1555413272.csv\")], axis=0)\n",
    "none = pd.read_csv(\"./none/3_sen_ilya1555499794.csv\")\n",
    "\n",
    "\n",
    "ok = pd.read_csv(\"./OK/3_sen_ilya1555500204.csv\")\n",
    "\n",
    "# rock = pd.concat([pd.read_csv(\"./rock/hello_world_from_dima1555413510.csv\"), pd.read_csv(\"./rock/hello_world_from_dima1555414752.csv\")], axis=0)\n",
    "kulack = pd.read_csv(\"./kulack/3_sen_ilya1555499943.csv\")\n",
    "\n",
    "iron_men = pd.read_csv(\"./iron_men/3_sen_ilya1555500089.csv\")"
   ]
  },
  {
   "cell_type": "code",
   "execution_count": 192,
   "metadata": {},
   "outputs": [],
   "source": [
    "# none = pd.concat([pd.read_csv(\"./none/hello_world_from_dima1555413791.csv\"), pd.read_csv(\"./none/hello_world_from_dima1555413272.csv\")], axis=0)\n",
    "none = pd.read_csv(\"./none/3_sen_ilya1555499794.csv\")\n",
    "\n",
    "\n",
    "ok = pd.read_csv(\"./OK/3_sen_ilya1555500204.csv\")\n",
    "\n",
    "# rock = pd.concat([pd.read_csv(\"./rock/hello_world_from_dima1555413510.csv\"), pd.read_csv(\"./rock/hello_world_from_dima1555414752.csv\")], axis=0)\n",
    "kulack = pd.read_csv(\"./kulack/3_sen_ilya1555499943.csv\")\n",
    "\n",
    "iron_men = pd.read_csv(\"./iron_men/3_sen_ilya1555500089.csv\")"
   ]
  },
  {
   "cell_type": "code",
   "execution_count": 193,
   "metadata": {},
   "outputs": [
    {
     "ename": "SyntaxError",
     "evalue": "invalid syntax (<ipython-input-193-558b4574be71>, line 2)",
     "output_type": "error",
     "traceback": [
      "\u001b[1;36m  File \u001b[1;32m\"<ipython-input-193-558b4574be71>\"\u001b[1;36m, line \u001b[1;32m2\u001b[0m\n\u001b[1;33m    none = pd.read_csv(\"./none/hello_world_from_dima1555413791.csv\")hello_world_from_dima1555413272.csv\u001b[0m\n\u001b[1;37m                                                                                                  ^\u001b[0m\n\u001b[1;31mSyntaxError\u001b[0m\u001b[1;31m:\u001b[0m invalid syntax\n"
     ]
    }
   ],
   "source": [
    "# none = pd.concat([pd.read_csv(\"./none/hello_world_from_dima1555413791.csv\"), pd.read_csv(\"./none/hello_world_from_dima1555413272.csv\")], axis=0)\n",
    "none = pd.read_csv(\"./none/hello_world_from_dima1555413791.csv\")hello_world_from_dima1555413272.csv\n",
    "\n",
    "\n",
    "rock = pd.read_csv(\"./rock/hello_world_from_dima1555413510.csv\")\n",
    "\n",
    "# rock = pd.concat([pd.read_csv(\"./rock/hello_world_from_dima1555413510.csv\"), pd.read_csv(\"./rock/hello_world_from_dima1555414752.csv\")], axis=0)\n",
    "kulack = pd.read_csv(\"./kulack/hello_world_from_dima1555413386.csv\")"
   ]
  },
  {
   "cell_type": "code",
   "execution_count": 3,
   "metadata": {},
   "outputs": [],
   "source": [
    "m1 = pd.read_csv(\"./1/1.csv\")\n",
    "m2 = pd.read_csv(\"./2/2.csv\")\n",
    "m3 = pd.read_csv(\"./3/3.csv\")\n"
   ]
  },
  {
   "cell_type": "code",
   "execution_count": 4,
   "metadata": {},
   "outputs": [],
   "source": [
    "m1 = m1.drop(0, axis=0)\n",
    "m2 = m2.drop(0, axis=0)\n",
    "m3 = m3.drop(0, axis=0)"
   ]
  },
  {
   "cell_type": "code",
   "execution_count": 5,
   "metadata": {},
   "outputs": [],
   "source": [
    "m1_val = pd.read_csv(\"./1/1_1.csv\")\n",
    "m2_val = pd.read_csv(\"./2/2_1.csv\")\n",
    "m3_val = pd.read_csv(\"./3/3_1.csv\")\n"
   ]
  },
  {
   "cell_type": "code",
   "execution_count": 6,
   "metadata": {},
   "outputs": [],
   "source": [
    "m1_val = m1_val.drop(0, axis=0)\n",
    "m2_val = m2_val.drop(0, axis=0)\n",
    "m3_val = m3_val.drop(0, axis=0)"
   ]
  },
  {
   "cell_type": "markdown",
   "metadata": {},
   "source": [
    "m2"
   ]
  },
  {
   "cell_type": "code",
   "execution_count": 7,
   "metadata": {},
   "outputs": [],
   "source": [
    "m1[\"type\"] = 0\n",
    "m2[\"type\"] = 1\n",
    "m3[\"type\"] = 2"
   ]
  },
  {
   "cell_type": "code",
   "execution_count": 8,
   "metadata": {},
   "outputs": [],
   "source": [
    "m1_val[\"type\"] = 0\n",
    "m2_val[\"type\"] = 1\n",
    "m3_val[\"type\"] = 2"
   ]
  },
  {
   "cell_type": "code",
   "execution_count": null,
   "metadata": {},
   "outputs": [],
   "source": [
    "none.loc[:25, 'type'] = 5\n"
   ]
  },
  {
   "cell_type": "code",
   "execution_count": null,
   "metadata": {},
   "outputs": [],
   "source": [
    "m1"
   ]
  },
  {
   "cell_type": "code",
   "execution_count": null,
   "metadata": {},
   "outputs": [],
   "source": [
    "none[\"type\"] = 0"
   ]
  },
  {
   "cell_type": "code",
   "execution_count": null,
   "metadata": {},
   "outputs": [],
   "source": [
    "kulack[\"type\"] = 1"
   ]
  },
  {
   "cell_type": "code",
   "execution_count": null,
   "metadata": {},
   "outputs": [],
   "source": [
    "ok[\"type\"] = 2"
   ]
  },
  {
   "cell_type": "code",
   "execution_count": null,
   "metadata": {},
   "outputs": [],
   "source": [
    "iron_men[\"type\"] = 3"
   ]
  },
  {
   "cell_type": "code",
   "execution_count": null,
   "metadata": {},
   "outputs": [],
   "source": [
    "for j in range(11):\n",
    "    none.loc[j:, \"emg0_\"+str(j)] = [i for i in none[\"emg0\"][:j]]\n",
    "    none.loc[j:, \"emg1_\"+str(j)] = [i for i in none[\"emg1\"][:j]]"
   ]
  },
  {
   "cell_type": "code",
   "execution_count": null,
   "metadata": {},
   "outputs": [],
   "source": [
    "none.loc[10:, \"emg0_1\"] = [i for i in none[\"emg0\"][:-10]]\n",
    "none.loc[10:, \"emg1_1\"] = [i for i in none[\"emg1\"][:-10]]"
   ]
  },
  {
   "cell_type": "code",
   "execution_count": null,
   "metadata": {},
   "outputs": [],
   "source": [
    "kulack.loc[10:, \"emg0_1\"] = [i for i in kulack[\"emg0\"][:-10]]\n",
    "kulack.loc[10:, \"emg1_1\"] = [i for i in kulack[\"emg1\"][:-10]]"
   ]
  },
  {
   "cell_type": "code",
   "execution_count": null,
   "metadata": {},
   "outputs": [],
   "source": [
    "rock.loc[10:, \"emg0_1\"] = [i for i in rock[\"emg0\"][:-10]]\n",
    "rock.loc[10:, \"emg1_1\"] = [i for i in rock[\"emg1\"][:-10]]"
   ]
  },
  {
   "cell_type": "code",
   "execution_count": null,
   "metadata": {},
   "outputs": [],
   "source": []
  },
  {
   "cell_type": "code",
   "execution_count": null,
   "metadata": {},
   "outputs": [],
   "source": [
    "none"
   ]
  },
  {
   "cell_type": "code",
   "execution_count": null,
   "metadata": {},
   "outputs": [],
   "source": [
    "none"
   ]
  },
  {
   "cell_type": "code",
   "execution_count": null,
   "metadata": {},
   "outputs": [],
   "source": [
    "plot(m1['Unnamed: 0'], m1['emg_2'])"
   ]
  },
  {
   "cell_type": "code",
   "execution_count": 10,
   "metadata": {},
   "outputs": [
    {
     "name": "stderr",
     "output_type": "stream",
     "text": [
      "C:\\Users\\ws_robot\\Anaconda3\\lib\\site-packages\\ipykernel_launcher.py:1: FutureWarning: Sorting because non-concatenation axis is not aligned. A future version\n",
      "of pandas will change to not sort by default.\n",
      "\n",
      "To accept the future behavior, pass 'sort=False'.\n",
      "\n",
      "To retain the current behavior and silence the warning, pass 'sort=True'.\n",
      "\n",
      "  \"\"\"Entry point for launching an IPython kernel.\n"
     ]
    }
   ],
   "source": [
    "data = pd.concat([m1, m2, m3], axis=0)"
   ]
  },
  {
   "cell_type": "code",
   "execution_count": 11,
   "metadata": {},
   "outputs": [
    {
     "name": "stderr",
     "output_type": "stream",
     "text": [
      "C:\\Users\\ws_robot\\Anaconda3\\lib\\site-packages\\ipykernel_launcher.py:1: FutureWarning: Sorting because non-concatenation axis is not aligned. A future version\n",
      "of pandas will change to not sort by default.\n",
      "\n",
      "To accept the future behavior, pass 'sort=False'.\n",
      "\n",
      "To retain the current behavior and silence the warning, pass 'sort=True'.\n",
      "\n",
      "  \"\"\"Entry point for launching an IPython kernel.\n"
     ]
    }
   ],
   "source": [
    "data = pd.concat([m1, m1_val, m2, m2_val, m3, m3_val], axis=0)"
   ]
  },
  {
   "cell_type": "code",
   "execution_count": 15,
   "metadata": {
    "scrolled": true
   },
   "outputs": [],
   "source": [
    "data[\"0\"] = [1 if i == 0 else 0 for i in data[\"type\"]] \n",
    "data[\"1\"] = [1 if i == 1 else 0 for i in data[\"type\"]] \n",
    "data[\"2\"] = [1 if i == 2 else 0 for i in data[\"type\"]] "
   ]
  },
  {
   "cell_type": "code",
   "execution_count": 16,
   "metadata": {},
   "outputs": [],
   "source": [
    "data = data.dropna()"
   ]
  },
  {
   "cell_type": "code",
   "execution_count": 17,
   "metadata": {
    "scrolled": true
   },
   "outputs": [
    {
     "data": {
      "text/plain": [
       "4219"
      ]
     },
     "execution_count": 17,
     "metadata": {},
     "output_type": "execute_result"
    }
   ],
   "source": [
    "len(data[\"type\"])"
   ]
  },
  {
   "cell_type": "code",
   "execution_count": 19,
   "metadata": {},
   "outputs": [],
   "source": [
    "from sklearn.model_selection import train_test_split\n",
    "\n",
    "X_train, X_test, y_train, y_test = train_test_split(data.drop([\"Unnamed: 0\", \"type\", \"0\", \"1\", \"2\"], axis=1), data[[\"0\", \"1\", \"2\", \"type\"]], test_size=0.1, random_state=42)"
   ]
  },
  {
   "cell_type": "code",
   "execution_count": 20,
   "metadata": {},
   "outputs": [],
   "source": [
    "y_train = y_train.drop(\"type\", axis=1)"
   ]
  },
  {
   "cell_type": "code",
   "execution_count": 21,
   "metadata": {},
   "outputs": [
    {
     "data": {
      "text/plain": [
       "75"
      ]
     },
     "execution_count": 21,
     "metadata": {},
     "output_type": "execute_result"
    }
   ],
   "source": [
    "len(X_train.columns)"
   ]
  },
  {
   "cell_type": "code",
   "execution_count": 162,
   "metadata": {},
   "outputs": [],
   "source": [
    "import catboost"
   ]
  },
  {
   "cell_type": "code",
   "execution_count": 163,
   "metadata": {},
   "outputs": [],
   "source": [
    "clf = catboost.CatBoostRegressor(iterations=1000)"
   ]
  },
  {
   "cell_type": "code",
   "execution_count": 52,
   "metadata": {},
   "outputs": [],
   "source": [
    "clf = catboost.CatBoostClassifier(iterations=1000)"
   ]
  },
  {
   "cell_type": "code",
   "execution_count": 164,
   "metadata": {},
   "outputs": [
    {
     "name": "stdout",
     "output_type": "stream",
     "text": [
      "0:\tlearn: 0.5870035\ttotal: 182ms\tremaining: 3m 1s\n",
      "1:\tlearn: 0.5743728\ttotal: 283ms\tremaining: 2m 21s\n",
      "2:\tlearn: 0.5626420\ttotal: 376ms\tremaining: 2m 4s\n",
      "3:\tlearn: 0.5512750\ttotal: 476ms\tremaining: 1m 58s\n",
      "4:\tlearn: 0.5406882\ttotal: 568ms\tremaining: 1m 53s\n",
      "5:\tlearn: 0.5301949\ttotal: 670ms\tremaining: 1m 51s\n",
      "6:\tlearn: 0.5201611\ttotal: 775ms\tremaining: 1m 49s\n",
      "7:\tlearn: 0.5109886\ttotal: 868ms\tremaining: 1m 47s\n",
      "8:\tlearn: 0.5017770\ttotal: 960ms\tremaining: 1m 45s\n",
      "9:\tlearn: 0.4924846\ttotal: 1.06s\tremaining: 1m 44s\n",
      "10:\tlearn: 0.4835349\ttotal: 1.15s\tremaining: 1m 43s\n",
      "11:\tlearn: 0.4753060\ttotal: 1.25s\tremaining: 1m 43s\n",
      "12:\tlearn: 0.4673583\ttotal: 1.36s\tremaining: 1m 43s\n",
      "13:\tlearn: 0.4595891\ttotal: 1.46s\tremaining: 1m 42s\n",
      "14:\tlearn: 0.4524170\ttotal: 1.55s\tremaining: 1m 41s\n",
      "15:\tlearn: 0.4450245\ttotal: 1.65s\tremaining: 1m 41s\n",
      "16:\tlearn: 0.4380994\ttotal: 1.75s\tremaining: 1m 40s\n",
      "17:\tlearn: 0.4312052\ttotal: 1.84s\tremaining: 1m 40s\n",
      "18:\tlearn: 0.4250071\ttotal: 1.93s\tremaining: 1m 39s\n",
      "19:\tlearn: 0.4189871\ttotal: 2.03s\tremaining: 1m 39s\n",
      "20:\tlearn: 0.4129666\ttotal: 2.12s\tremaining: 1m 38s\n",
      "21:\tlearn: 0.4068787\ttotal: 2.21s\tremaining: 1m 38s\n",
      "22:\tlearn: 0.4010749\ttotal: 2.31s\tremaining: 1m 38s\n",
      "23:\tlearn: 0.3956407\ttotal: 2.41s\tremaining: 1m 37s\n",
      "24:\tlearn: 0.3907620\ttotal: 2.5s\tremaining: 1m 37s\n",
      "25:\tlearn: 0.3861670\ttotal: 2.6s\tremaining: 1m 37s\n",
      "26:\tlearn: 0.3816928\ttotal: 2.69s\tremaining: 1m 36s\n",
      "27:\tlearn: 0.3772131\ttotal: 2.79s\tremaining: 1m 36s\n",
      "28:\tlearn: 0.3730564\ttotal: 2.89s\tremaining: 1m 36s\n",
      "29:\tlearn: 0.3680391\ttotal: 2.99s\tremaining: 1m 36s\n",
      "30:\tlearn: 0.3634231\ttotal: 3.08s\tremaining: 1m 36s\n",
      "31:\tlearn: 0.3602340\ttotal: 3.18s\tremaining: 1m 36s\n",
      "32:\tlearn: 0.3574180\ttotal: 3.27s\tremaining: 1m 35s\n",
      "33:\tlearn: 0.3537342\ttotal: 3.36s\tremaining: 1m 35s\n",
      "34:\tlearn: 0.3500976\ttotal: 3.46s\tremaining: 1m 35s\n",
      "35:\tlearn: 0.3468425\ttotal: 3.55s\tremaining: 1m 35s\n",
      "36:\tlearn: 0.3435722\ttotal: 3.65s\tremaining: 1m 34s\n",
      "37:\tlearn: 0.3404100\ttotal: 3.74s\tremaining: 1m 34s\n",
      "38:\tlearn: 0.3372781\ttotal: 3.83s\tremaining: 1m 34s\n",
      "39:\tlearn: 0.3345139\ttotal: 3.93s\tremaining: 1m 34s\n",
      "40:\tlearn: 0.3316697\ttotal: 4.02s\tremaining: 1m 33s\n",
      "41:\tlearn: 0.3296997\ttotal: 4.11s\tremaining: 1m 33s\n",
      "42:\tlearn: 0.3272795\ttotal: 4.19s\tremaining: 1m 33s\n",
      "43:\tlearn: 0.3244782\ttotal: 4.29s\tremaining: 1m 33s\n",
      "44:\tlearn: 0.3221741\ttotal: 4.38s\tremaining: 1m 32s\n",
      "45:\tlearn: 0.3200701\ttotal: 4.48s\tremaining: 1m 32s\n",
      "46:\tlearn: 0.3175777\ttotal: 4.57s\tremaining: 1m 32s\n",
      "47:\tlearn: 0.3154613\ttotal: 4.66s\tremaining: 1m 32s\n",
      "48:\tlearn: 0.3136038\ttotal: 4.75s\tremaining: 1m 32s\n",
      "49:\tlearn: 0.3108788\ttotal: 4.85s\tremaining: 1m 32s\n",
      "50:\tlearn: 0.3090288\ttotal: 4.95s\tremaining: 1m 32s\n",
      "51:\tlearn: 0.3074689\ttotal: 5.04s\tremaining: 1m 31s\n",
      "52:\tlearn: 0.3055853\ttotal: 5.13s\tremaining: 1m 31s\n",
      "53:\tlearn: 0.3045496\ttotal: 5.22s\tremaining: 1m 31s\n",
      "54:\tlearn: 0.3027476\ttotal: 5.31s\tremaining: 1m 31s\n",
      "55:\tlearn: 0.3013999\ttotal: 5.4s\tremaining: 1m 31s\n",
      "56:\tlearn: 0.2996854\ttotal: 5.49s\tremaining: 1m 30s\n",
      "57:\tlearn: 0.2979218\ttotal: 5.59s\tremaining: 1m 30s\n",
      "58:\tlearn: 0.2959840\ttotal: 5.68s\tremaining: 1m 30s\n",
      "59:\tlearn: 0.2945986\ttotal: 5.77s\tremaining: 1m 30s\n",
      "60:\tlearn: 0.2930667\ttotal: 5.86s\tremaining: 1m 30s\n",
      "61:\tlearn: 0.2920613\ttotal: 5.95s\tremaining: 1m 30s\n",
      "62:\tlearn: 0.2906651\ttotal: 6.05s\tremaining: 1m 29s\n",
      "63:\tlearn: 0.2898147\ttotal: 6.13s\tremaining: 1m 29s\n",
      "64:\tlearn: 0.2886269\ttotal: 6.23s\tremaining: 1m 29s\n",
      "65:\tlearn: 0.2878694\ttotal: 6.32s\tremaining: 1m 29s\n",
      "66:\tlearn: 0.2867536\ttotal: 6.41s\tremaining: 1m 29s\n",
      "67:\tlearn: 0.2857192\ttotal: 6.5s\tremaining: 1m 29s\n",
      "68:\tlearn: 0.2841233\ttotal: 6.59s\tremaining: 1m 28s\n",
      "69:\tlearn: 0.2831766\ttotal: 6.69s\tremaining: 1m 28s\n",
      "70:\tlearn: 0.2825241\ttotal: 6.78s\tremaining: 1m 28s\n",
      "71:\tlearn: 0.2812962\ttotal: 6.87s\tremaining: 1m 28s\n",
      "72:\tlearn: 0.2800885\ttotal: 6.96s\tremaining: 1m 28s\n",
      "73:\tlearn: 0.2792409\ttotal: 7.06s\tremaining: 1m 28s\n",
      "74:\tlearn: 0.2784155\ttotal: 7.15s\tremaining: 1m 28s\n",
      "75:\tlearn: 0.2775308\ttotal: 7.24s\tremaining: 1m 28s\n",
      "76:\tlearn: 0.2761331\ttotal: 7.33s\tremaining: 1m 27s\n",
      "77:\tlearn: 0.2751323\ttotal: 7.43s\tremaining: 1m 27s\n",
      "78:\tlearn: 0.2742623\ttotal: 7.52s\tremaining: 1m 27s\n",
      "79:\tlearn: 0.2733240\ttotal: 7.63s\tremaining: 1m 27s\n",
      "80:\tlearn: 0.2723843\ttotal: 7.72s\tremaining: 1m 27s\n",
      "81:\tlearn: 0.2717868\ttotal: 7.82s\tremaining: 1m 27s\n",
      "82:\tlearn: 0.2713376\ttotal: 7.91s\tremaining: 1m 27s\n",
      "83:\tlearn: 0.2704305\ttotal: 8s\tremaining: 1m 27s\n",
      "84:\tlearn: 0.2699225\ttotal: 8.09s\tremaining: 1m 27s\n",
      "85:\tlearn: 0.2693133\ttotal: 8.19s\tremaining: 1m 26s\n",
      "86:\tlearn: 0.2684534\ttotal: 8.28s\tremaining: 1m 26s\n",
      "87:\tlearn: 0.2678283\ttotal: 8.37s\tremaining: 1m 26s\n",
      "88:\tlearn: 0.2671348\ttotal: 8.46s\tremaining: 1m 26s\n",
      "89:\tlearn: 0.2665051\ttotal: 8.56s\tremaining: 1m 26s\n",
      "90:\tlearn: 0.2659762\ttotal: 8.65s\tremaining: 1m 26s\n",
      "91:\tlearn: 0.2651942\ttotal: 8.75s\tremaining: 1m 26s\n",
      "92:\tlearn: 0.2641539\ttotal: 8.84s\tremaining: 1m 26s\n",
      "93:\tlearn: 0.2637340\ttotal: 8.93s\tremaining: 1m 26s\n",
      "94:\tlearn: 0.2635147\ttotal: 9.03s\tremaining: 1m 26s\n",
      "95:\tlearn: 0.2632353\ttotal: 9.13s\tremaining: 1m 25s\n",
      "96:\tlearn: 0.2629030\ttotal: 9.21s\tremaining: 1m 25s\n",
      "97:\tlearn: 0.2625685\ttotal: 9.31s\tremaining: 1m 25s\n",
      "98:\tlearn: 0.2619216\ttotal: 9.4s\tremaining: 1m 25s\n",
      "99:\tlearn: 0.2613701\ttotal: 9.49s\tremaining: 1m 25s\n",
      "100:\tlearn: 0.2608164\ttotal: 9.59s\tremaining: 1m 25s\n",
      "101:\tlearn: 0.2605099\ttotal: 9.68s\tremaining: 1m 25s\n",
      "102:\tlearn: 0.2600722\ttotal: 9.77s\tremaining: 1m 25s\n",
      "103:\tlearn: 0.2598588\ttotal: 9.86s\tremaining: 1m 24s\n",
      "104:\tlearn: 0.2596444\ttotal: 9.95s\tremaining: 1m 24s\n",
      "105:\tlearn: 0.2593270\ttotal: 10s\tremaining: 1m 24s\n",
      "106:\tlearn: 0.2589718\ttotal: 10.1s\tremaining: 1m 24s\n",
      "107:\tlearn: 0.2586876\ttotal: 10.2s\tremaining: 1m 24s\n",
      "108:\tlearn: 0.2580528\ttotal: 10.3s\tremaining: 1m 24s\n",
      "109:\tlearn: 0.2573847\ttotal: 10.4s\tremaining: 1m 24s\n",
      "110:\tlearn: 0.2570705\ttotal: 10.5s\tremaining: 1m 24s\n",
      "111:\tlearn: 0.2565036\ttotal: 10.6s\tremaining: 1m 24s\n",
      "112:\tlearn: 0.2562346\ttotal: 10.7s\tremaining: 1m 23s\n",
      "113:\tlearn: 0.2560443\ttotal: 10.8s\tremaining: 1m 23s\n",
      "114:\tlearn: 0.2553424\ttotal: 10.9s\tremaining: 1m 23s\n",
      "115:\tlearn: 0.2548866\ttotal: 11s\tremaining: 1m 23s\n",
      "116:\tlearn: 0.2545881\ttotal: 11.1s\tremaining: 1m 23s\n",
      "117:\tlearn: 0.2541759\ttotal: 11.1s\tremaining: 1m 23s\n",
      "118:\tlearn: 0.2539980\ttotal: 11.2s\tremaining: 1m 23s\n",
      "119:\tlearn: 0.2534593\ttotal: 11.3s\tremaining: 1m 23s\n",
      "120:\tlearn: 0.2531840\ttotal: 11.4s\tremaining: 1m 23s\n",
      "121:\tlearn: 0.2527308\ttotal: 11.5s\tremaining: 1m 22s\n",
      "122:\tlearn: 0.2524857\ttotal: 11.6s\tremaining: 1m 22s\n",
      "123:\tlearn: 0.2522339\ttotal: 11.7s\tremaining: 1m 22s\n",
      "124:\tlearn: 0.2519897\ttotal: 11.8s\tremaining: 1m 22s\n",
      "125:\tlearn: 0.2518120\ttotal: 11.9s\tremaining: 1m 22s\n",
      "126:\tlearn: 0.2516730\ttotal: 12s\tremaining: 1m 22s\n",
      "127:\tlearn: 0.2512433\ttotal: 12.1s\tremaining: 1m 22s\n",
      "128:\tlearn: 0.2508124\ttotal: 12.2s\tremaining: 1m 22s\n",
      "129:\tlearn: 0.2506486\ttotal: 12.3s\tremaining: 1m 22s\n",
      "130:\tlearn: 0.2505233\ttotal: 12.4s\tremaining: 1m 22s\n",
      "131:\tlearn: 0.2504432\ttotal: 12.5s\tremaining: 1m 21s\n",
      "132:\tlearn: 0.2499881\ttotal: 12.6s\tremaining: 1m 21s\n",
      "133:\tlearn: 0.2498164\ttotal: 12.6s\tremaining: 1m 21s\n",
      "134:\tlearn: 0.2494997\ttotal: 12.7s\tremaining: 1m 21s\n",
      "135:\tlearn: 0.2491180\ttotal: 12.8s\tremaining: 1m 21s\n",
      "136:\tlearn: 0.2489118\ttotal: 12.9s\tremaining: 1m 21s\n",
      "137:\tlearn: 0.2488069\ttotal: 13s\tremaining: 1m 21s\n",
      "138:\tlearn: 0.2486917\ttotal: 13.1s\tremaining: 1m 21s\n",
      "139:\tlearn: 0.2483819\ttotal: 13.2s\tremaining: 1m 21s\n",
      "140:\tlearn: 0.2483223\ttotal: 13.3s\tremaining: 1m 20s\n",
      "141:\tlearn: 0.2482254\ttotal: 13.4s\tremaining: 1m 20s\n",
      "142:\tlearn: 0.2480392\ttotal: 13.5s\tremaining: 1m 20s\n",
      "143:\tlearn: 0.2479354\ttotal: 13.6s\tremaining: 1m 20s\n",
      "144:\tlearn: 0.2473706\ttotal: 13.7s\tremaining: 1m 20s\n",
      "145:\tlearn: 0.2471887\ttotal: 13.7s\tremaining: 1m 20s\n",
      "146:\tlearn: 0.2468615\ttotal: 13.8s\tremaining: 1m 20s\n",
      "147:\tlearn: 0.2467440\ttotal: 13.9s\tremaining: 1m 20s\n",
      "148:\tlearn: 0.2465428\ttotal: 14s\tremaining: 1m 20s\n",
      "149:\tlearn: 0.2464038\ttotal: 14.1s\tremaining: 1m 19s\n",
      "150:\tlearn: 0.2463098\ttotal: 14.2s\tremaining: 1m 19s\n",
      "151:\tlearn: 0.2462040\ttotal: 14.3s\tremaining: 1m 19s\n",
      "152:\tlearn: 0.2461692\ttotal: 14.4s\tremaining: 1m 19s\n",
      "153:\tlearn: 0.2460179\ttotal: 14.5s\tremaining: 1m 19s\n",
      "154:\tlearn: 0.2459350\ttotal: 14.6s\tremaining: 1m 19s\n",
      "155:\tlearn: 0.2456099\ttotal: 14.7s\tremaining: 1m 19s\n",
      "156:\tlearn: 0.2453453\ttotal: 14.8s\tremaining: 1m 19s\n",
      "157:\tlearn: 0.2452168\ttotal: 14.8s\tremaining: 1m 19s\n",
      "158:\tlearn: 0.2451260\ttotal: 14.9s\tremaining: 1m 19s\n",
      "159:\tlearn: 0.2450854\ttotal: 15s\tremaining: 1m 18s\n",
      "160:\tlearn: 0.2449120\ttotal: 15.1s\tremaining: 1m 18s\n",
      "161:\tlearn: 0.2447986\ttotal: 15.2s\tremaining: 1m 18s\n",
      "162:\tlearn: 0.2447531\ttotal: 15.3s\tremaining: 1m 18s\n",
      "163:\tlearn: 0.2446304\ttotal: 15.4s\tremaining: 1m 18s\n",
      "164:\tlearn: 0.2443549\ttotal: 15.5s\tremaining: 1m 18s\n",
      "165:\tlearn: 0.2442157\ttotal: 15.6s\tremaining: 1m 18s\n",
      "166:\tlearn: 0.2441610\ttotal: 15.7s\tremaining: 1m 18s\n",
      "167:\tlearn: 0.2440768\ttotal: 15.8s\tremaining: 1m 18s\n",
      "168:\tlearn: 0.2439728\ttotal: 15.9s\tremaining: 1m 18s\n",
      "169:\tlearn: 0.2438282\ttotal: 16s\tremaining: 1m 17s\n",
      "170:\tlearn: 0.2436005\ttotal: 16.1s\tremaining: 1m 17s\n",
      "171:\tlearn: 0.2434506\ttotal: 16.1s\tremaining: 1m 17s\n",
      "172:\tlearn: 0.2434076\ttotal: 16.2s\tremaining: 1m 17s\n",
      "173:\tlearn: 0.2433635\ttotal: 16.3s\tremaining: 1m 17s\n",
      "174:\tlearn: 0.2432089\ttotal: 16.4s\tremaining: 1m 17s\n",
      "175:\tlearn: 0.2429732\ttotal: 16.5s\tremaining: 1m 17s\n",
      "176:\tlearn: 0.2429075\ttotal: 16.6s\tremaining: 1m 17s\n",
      "177:\tlearn: 0.2428499\ttotal: 16.7s\tremaining: 1m 17s\n",
      "178:\tlearn: 0.2428006\ttotal: 16.8s\tremaining: 1m 16s\n",
      "179:\tlearn: 0.2424934\ttotal: 16.9s\tremaining: 1m 16s\n",
      "180:\tlearn: 0.2421007\ttotal: 17s\tremaining: 1m 16s\n",
      "181:\tlearn: 0.2419160\ttotal: 17.1s\tremaining: 1m 16s\n",
      "182:\tlearn: 0.2415169\ttotal: 17.1s\tremaining: 1m 16s\n",
      "183:\tlearn: 0.2410186\ttotal: 17.2s\tremaining: 1m 16s\n",
      "184:\tlearn: 0.2408879\ttotal: 17.3s\tremaining: 1m 16s\n",
      "185:\tlearn: 0.2408124\ttotal: 17.4s\tremaining: 1m 16s\n",
      "186:\tlearn: 0.2405180\ttotal: 17.5s\tremaining: 1m 16s\n",
      "187:\tlearn: 0.2404766\ttotal: 17.6s\tremaining: 1m 16s\n",
      "188:\tlearn: 0.2404720\ttotal: 17.7s\tremaining: 1m 15s\n",
      "189:\tlearn: 0.2401660\ttotal: 17.8s\tremaining: 1m 15s\n",
      "190:\tlearn: 0.2394273\ttotal: 17.9s\tremaining: 1m 15s\n",
      "191:\tlearn: 0.2392721\ttotal: 18s\tremaining: 1m 15s\n",
      "192:\tlearn: 0.2390315\ttotal: 18.1s\tremaining: 1m 15s\n",
      "193:\tlearn: 0.2389941\ttotal: 18.2s\tremaining: 1m 15s\n",
      "194:\tlearn: 0.2388720\ttotal: 18.3s\tremaining: 1m 15s\n",
      "195:\tlearn: 0.2386900\ttotal: 18.3s\tremaining: 1m 15s\n",
      "196:\tlearn: 0.2385386\ttotal: 18.4s\tremaining: 1m 15s\n",
      "197:\tlearn: 0.2381825\ttotal: 18.5s\tremaining: 1m 15s\n",
      "198:\tlearn: 0.2380378\ttotal: 18.6s\tremaining: 1m 14s\n",
      "199:\tlearn: 0.2373402\ttotal: 18.7s\tremaining: 1m 14s\n",
      "200:\tlearn: 0.2372448\ttotal: 18.8s\tremaining: 1m 14s\n",
      "201:\tlearn: 0.2372074\ttotal: 18.9s\tremaining: 1m 14s\n",
      "202:\tlearn: 0.2369716\ttotal: 19s\tremaining: 1m 14s\n",
      "203:\tlearn: 0.2366915\ttotal: 19.1s\tremaining: 1m 14s\n",
      "204:\tlearn: 0.2365607\ttotal: 19.2s\tremaining: 1m 14s\n",
      "205:\tlearn: 0.2365290\ttotal: 19.2s\tremaining: 1m 14s\n",
      "206:\tlearn: 0.2363876\ttotal: 19.3s\tremaining: 1m 14s\n",
      "207:\tlearn: 0.2362900\ttotal: 19.4s\tremaining: 1m 13s\n",
      "208:\tlearn: 0.2362597\ttotal: 19.5s\tremaining: 1m 13s\n",
      "209:\tlearn: 0.2362030\ttotal: 19.6s\tremaining: 1m 13s\n",
      "210:\tlearn: 0.2360944\ttotal: 19.7s\tremaining: 1m 13s\n",
      "211:\tlearn: 0.2355975\ttotal: 19.8s\tremaining: 1m 13s\n",
      "212:\tlearn: 0.2354082\ttotal: 19.9s\tremaining: 1m 13s\n",
      "213:\tlearn: 0.2352570\ttotal: 20s\tremaining: 1m 13s\n",
      "214:\tlearn: 0.2350665\ttotal: 20.1s\tremaining: 1m 13s\n",
      "215:\tlearn: 0.2349573\ttotal: 20.2s\tremaining: 1m 13s\n"
     ]
    },
    {
     "ename": "KeyboardInterrupt",
     "evalue": "",
     "output_type": "error",
     "traceback": [
      "\u001b[1;31m---------------------------------------------------------------------------\u001b[0m",
      "\u001b[1;31mKeyboardInterrupt\u001b[0m                         Traceback (most recent call last)",
      "\u001b[1;32m<ipython-input-164-4f66baab8f93>\u001b[0m in \u001b[0;36m<module>\u001b[1;34m\u001b[0m\n\u001b[1;32m----> 1\u001b[1;33m \u001b[0mclf\u001b[0m\u001b[1;33m.\u001b[0m\u001b[0mfit\u001b[0m\u001b[1;33m(\u001b[0m\u001b[0mX_train\u001b[0m\u001b[1;33m,\u001b[0m \u001b[0my_train\u001b[0m\u001b[1;33m)\u001b[0m\u001b[1;33m\u001b[0m\u001b[1;33m\u001b[0m\u001b[0m\n\u001b[0m",
      "\u001b[1;32m~\\Anaconda3\\lib\\site-packages\\catboost\\core.py\u001b[0m in \u001b[0;36mfit\u001b[1;34m(self, X, y, cat_features, sample_weight, baseline, use_best_model, eval_set, verbose, logging_level, plot, column_description, verbose_eval, metric_period, silent, early_stopping_rounds, save_snapshot, snapshot_file, snapshot_interval)\u001b[0m\n\u001b[0;32m   2699\u001b[0m                          \u001b[0muse_best_model\u001b[0m\u001b[1;33m,\u001b[0m \u001b[0meval_set\u001b[0m\u001b[1;33m,\u001b[0m \u001b[0mverbose\u001b[0m\u001b[1;33m,\u001b[0m \u001b[0mlogging_level\u001b[0m\u001b[1;33m,\u001b[0m \u001b[0mplot\u001b[0m\u001b[1;33m,\u001b[0m \u001b[0mcolumn_description\u001b[0m\u001b[1;33m,\u001b[0m\u001b[1;33m\u001b[0m\u001b[1;33m\u001b[0m\u001b[0m\n\u001b[0;32m   2700\u001b[0m                          \u001b[0mverbose_eval\u001b[0m\u001b[1;33m,\u001b[0m \u001b[0mmetric_period\u001b[0m\u001b[1;33m,\u001b[0m \u001b[0msilent\u001b[0m\u001b[1;33m,\u001b[0m \u001b[0mearly_stopping_rounds\u001b[0m\u001b[1;33m,\u001b[0m\u001b[1;33m\u001b[0m\u001b[1;33m\u001b[0m\u001b[0m\n\u001b[1;32m-> 2701\u001b[1;33m                          save_snapshot, snapshot_file, snapshot_interval)\n\u001b[0m\u001b[0;32m   2702\u001b[0m \u001b[1;33m\u001b[0m\u001b[0m\n\u001b[0;32m   2703\u001b[0m     \u001b[1;32mdef\u001b[0m \u001b[0mpredict\u001b[0m\u001b[1;33m(\u001b[0m\u001b[0mself\u001b[0m\u001b[1;33m,\u001b[0m \u001b[0mdata\u001b[0m\u001b[1;33m,\u001b[0m \u001b[0mntree_start\u001b[0m\u001b[1;33m=\u001b[0m\u001b[1;36m0\u001b[0m\u001b[1;33m,\u001b[0m \u001b[0mntree_end\u001b[0m\u001b[1;33m=\u001b[0m\u001b[1;36m0\u001b[0m\u001b[1;33m,\u001b[0m \u001b[0mthread_count\u001b[0m\u001b[1;33m=\u001b[0m\u001b[1;33m-\u001b[0m\u001b[1;36m1\u001b[0m\u001b[1;33m,\u001b[0m \u001b[0mverbose\u001b[0m\u001b[1;33m=\u001b[0m\u001b[1;32mNone\u001b[0m\u001b[1;33m)\u001b[0m\u001b[1;33m:\u001b[0m\u001b[1;33m\u001b[0m\u001b[1;33m\u001b[0m\u001b[0m\n",
      "\u001b[1;32m~\\Anaconda3\\lib\\site-packages\\catboost\\core.py\u001b[0m in \u001b[0;36m_fit\u001b[1;34m(self, X, y, cat_features, pairs, sample_weight, group_id, group_weight, subgroup_id, pairs_weight, baseline, use_best_model, eval_set, verbose, logging_level, plot, column_description, verbose_eval, metric_period, silent, early_stopping_rounds, save_snapshot, snapshot_file, snapshot_interval)\u001b[0m\n\u001b[0;32m   1171\u001b[0m \u001b[1;33m\u001b[0m\u001b[0m\n\u001b[0;32m   1172\u001b[0m         \u001b[1;32mwith\u001b[0m \u001b[0mlog_fixup\u001b[0m\u001b[1;33m(\u001b[0m\u001b[1;33m)\u001b[0m\u001b[1;33m,\u001b[0m \u001b[0mplot_wrapper\u001b[0m\u001b[1;33m(\u001b[0m\u001b[0mplot\u001b[0m\u001b[1;33m,\u001b[0m \u001b[0mself\u001b[0m\u001b[1;33m.\u001b[0m\u001b[0mget_params\u001b[0m\u001b[1;33m(\u001b[0m\u001b[1;33m)\u001b[0m\u001b[1;33m)\u001b[0m\u001b[1;33m:\u001b[0m\u001b[1;33m\u001b[0m\u001b[1;33m\u001b[0m\u001b[0m\n\u001b[1;32m-> 1173\u001b[1;33m             \u001b[0mself\u001b[0m\u001b[1;33m.\u001b[0m\u001b[0m_train\u001b[0m\u001b[1;33m(\u001b[0m\u001b[0mtrain_pool\u001b[0m\u001b[1;33m,\u001b[0m \u001b[0meval_sets\u001b[0m\u001b[1;33m,\u001b[0m \u001b[0mparams\u001b[0m\u001b[1;33m,\u001b[0m \u001b[0mallow_clear_pool\u001b[0m\u001b[1;33m)\u001b[0m\u001b[1;33m\u001b[0m\u001b[1;33m\u001b[0m\u001b[0m\n\u001b[0m\u001b[0;32m   1174\u001b[0m \u001b[1;33m\u001b[0m\u001b[0m\n\u001b[0;32m   1175\u001b[0m         \u001b[1;32mif\u001b[0m \u001b[1;33m(\u001b[0m\u001b[1;32mnot\u001b[0m \u001b[0mself\u001b[0m\u001b[1;33m.\u001b[0m\u001b[0m_object\u001b[0m\u001b[1;33m.\u001b[0m\u001b[0m_has_leaf_weights_in_model\u001b[0m\u001b[1;33m(\u001b[0m\u001b[1;33m)\u001b[0m\u001b[1;33m)\u001b[0m \u001b[1;32mand\u001b[0m \u001b[0mallow_clear_pool\u001b[0m\u001b[1;33m:\u001b[0m\u001b[1;33m\u001b[0m\u001b[1;33m\u001b[0m\u001b[0m\n",
      "\u001b[1;32m~\\Anaconda3\\lib\\site-packages\\catboost\\core.py\u001b[0m in \u001b[0;36m_train\u001b[1;34m(self, train_pool, test_pool, params, allow_clear_pool)\u001b[0m\n\u001b[0;32m    864\u001b[0m \u001b[1;33m\u001b[0m\u001b[0m\n\u001b[0;32m    865\u001b[0m     \u001b[1;32mdef\u001b[0m \u001b[0m_train\u001b[0m\u001b[1;33m(\u001b[0m\u001b[0mself\u001b[0m\u001b[1;33m,\u001b[0m \u001b[0mtrain_pool\u001b[0m\u001b[1;33m,\u001b[0m \u001b[0mtest_pool\u001b[0m\u001b[1;33m,\u001b[0m \u001b[0mparams\u001b[0m\u001b[1;33m,\u001b[0m \u001b[0mallow_clear_pool\u001b[0m\u001b[1;33m)\u001b[0m\u001b[1;33m:\u001b[0m\u001b[1;33m\u001b[0m\u001b[1;33m\u001b[0m\u001b[0m\n\u001b[1;32m--> 866\u001b[1;33m         \u001b[0mself\u001b[0m\u001b[1;33m.\u001b[0m\u001b[0m_object\u001b[0m\u001b[1;33m.\u001b[0m\u001b[0m_train\u001b[0m\u001b[1;33m(\u001b[0m\u001b[0mtrain_pool\u001b[0m\u001b[1;33m,\u001b[0m \u001b[0mtest_pool\u001b[0m\u001b[1;33m,\u001b[0m \u001b[0mparams\u001b[0m\u001b[1;33m,\u001b[0m \u001b[0mallow_clear_pool\u001b[0m\u001b[1;33m)\u001b[0m\u001b[1;33m\u001b[0m\u001b[1;33m\u001b[0m\u001b[0m\n\u001b[0m\u001b[0;32m    867\u001b[0m         \u001b[0mself\u001b[0m\u001b[1;33m.\u001b[0m\u001b[0m_set_trained_model_attributes\u001b[0m\u001b[1;33m(\u001b[0m\u001b[1;33m)\u001b[0m\u001b[1;33m\u001b[0m\u001b[1;33m\u001b[0m\u001b[0m\n\u001b[0;32m    868\u001b[0m \u001b[1;33m\u001b[0m\u001b[0m\n",
      "\u001b[1;32m_catboost.pyx\u001b[0m in \u001b[0;36m_catboost._CatBoost._train\u001b[1;34m()\u001b[0m\n",
      "\u001b[1;32m_catboost.pyx\u001b[0m in \u001b[0;36m_catboost._CatBoost._train\u001b[1;34m()\u001b[0m\n",
      "\u001b[1;31mKeyboardInterrupt\u001b[0m: "
     ]
    }
   ],
   "source": [
    "clf.fit(X_train, y_train)"
   ]
  },
  {
   "cell_type": "code",
   "execution_count": 54,
   "metadata": {},
   "outputs": [],
   "source": [
    "y_pred = clf.predict(X_test)"
   ]
  },
  {
   "cell_type": "code",
   "execution_count": 55,
   "metadata": {},
   "outputs": [
    {
     "data": {
      "text/plain": [
       "array([0., 0., 0., 0., 0., 0., 1., 0., 1., 1., 0., 1., 1., 1., 1., 0., 0.,\n",
       "       0., 0., 1., 0., 0., 1., 0., 0., 1., 1., 1., 0., 1., 0., 0., 0., 1.,\n",
       "       1., 0., 0., 1., 1., 1., 0., 0., 0., 0., 1., 0., 1., 1., 1., 0., 1.,\n",
       "       1., 0., 0., 0., 1., 1., 0., 0., 1., 0., 0., 1., 0., 1., 0., 1., 1.,\n",
       "       1., 1., 1., 0., 0., 0., 1., 0., 0., 0., 0., 0., 1., 1., 1., 1., 1.,\n",
       "       0., 0., 1., 0., 0., 1., 0., 0., 0., 1., 1., 1., 1., 1., 0., 1., 1.,\n",
       "       0., 1., 0., 1., 0., 1., 0., 0., 1., 1., 1., 0., 0., 0., 1., 1., 0.,\n",
       "       1., 0., 1., 0., 0., 0., 0., 0., 0., 0., 0., 0., 0., 0., 0., 1., 1.,\n",
       "       0., 1., 0., 0., 0., 1., 0., 0., 0., 0., 1., 0., 0., 1., 1., 1., 0.,\n",
       "       0., 0., 1., 1., 0., 0., 0., 0., 0., 0., 0., 0., 1., 1., 0., 1., 0.,\n",
       "       0., 0., 0., 0., 0., 1., 1., 1., 0., 0., 0., 1., 0., 1., 1., 0., 0.,\n",
       "       1., 0., 0., 0., 0., 1., 0., 0., 0., 0., 0., 0., 0., 1., 0., 1., 1.,\n",
       "       0., 0., 0., 1., 0., 0., 1., 0., 0., 0., 0., 0., 1., 1., 1., 0., 0.,\n",
       "       1., 0., 1., 1., 0., 1., 1., 0., 0., 0., 0., 0., 0., 0., 1., 1., 0.,\n",
       "       1., 1., 0., 0., 0., 1., 0., 0., 1., 1., 0., 0., 0., 0., 0., 0., 0.,\n",
       "       0., 1., 1., 0., 1., 0., 0., 0., 1., 0., 0., 1., 1., 0., 1., 0., 1.,\n",
       "       0., 0., 0., 0., 0., 0., 0., 0., 1., 0., 0., 0., 0., 0., 0., 0., 0.,\n",
       "       0., 0., 0., 1., 0., 1., 0., 0., 0.])"
      ]
     },
     "execution_count": 55,
     "metadata": {},
     "output_type": "execute_result"
    }
   ],
   "source": [
    "y_pred"
   ]
  },
  {
   "cell_type": "code",
   "execution_count": 22,
   "metadata": {},
   "outputs": [],
   "source": [
    "from sklearn.metrics import accuracy_score"
   ]
  },
  {
   "cell_type": "code",
   "execution_count": 15,
   "metadata": {},
   "outputs": [],
   "source": [
    "def displayImp(in_clf, x_in):\n",
    "    if hasattr(in_clf, 'coef_'):\n",
    "        df_importances = sorted(list(zip(x_in.columns, in_clf.coef_.ravel())), key=lambda tpl: tpl[1], reverse=True)\n",
    "    else:\n",
    "        df_importances= sorted(list(zip(x_in.columns, in_clf.feature_importances_.ravel())), key=lambda tpl: tpl[1], reverse=True)\n",
    "    df_importances = pd.DataFrame(df_importances, columns=['feature', 'importance'])\n",
    "    df_importances = df_importances.set_index('feature')\n",
    "    df_importances = df_importances\n",
    "    df_importances.plot(kind='bar', figsize=(15, 3))\n",
    "    plt.show()\n",
    "    display(df_importances)\n",
    "    return df_importances"
   ]
  },
  {
   "cell_type": "code",
   "execution_count": 60,
   "metadata": {},
   "outputs": [
    {
     "data": {
      "image/png": "[encoded data removed]",
      "text/plain": [
       "<Figure size 1080x216 with 1 Axes>"
      ]
     },
     "metadata": {
      "needs_background": "light"
     },
     "output_type": "display_data"
    },
    {
     "data": {
      "text/html": [
       "<div>\n",
       "<style scoped>\n",
       "    .dataframe tbody tr th:only-of-type {\n",
       "        vertical-align: middle;\n",
       "    }\n",
       "\n",
       "    .dataframe tbody tr th {\n",
       "        vertical-align: top;\n",
       "    }\n",
       "\n",
       "    .dataframe thead th {\n",
       "        text-align: right;\n",
       "    }\n",
       "</style>\n",
       "<table border=\"1\" class=\"dataframe\">\n",
       "  <thead>\n",
       "    <tr style=\"text-align: right;\">\n",
       "      <th></th>\n",
       "      <th>importance</th>\n",
       "    </tr>\n",
       "    <tr>\n",
       "      <th>feature</th>\n",
       "      <th></th>\n",
       "    </tr>\n",
       "  </thead>\n",
       "  <tbody>\n",
       "    <tr>\n",
       "      <th>emg_ampl_0</th>\n",
       "      <td>30.446331</td>\n",
       "    </tr>\n",
       "    <tr>\n",
       "      <th>emg_ampl_1</th>\n",
       "      <td>13.204194</td>\n",
       "    </tr>\n",
       "    <tr>\n",
       "      <th>emg_med_0</th>\n",
       "      <td>9.298606</td>\n",
       "    </tr>\n",
       "    <tr>\n",
       "      <th>emg_med_1</th>\n",
       "      <td>8.845004</td>\n",
       "    </tr>\n",
       "    <tr>\n",
       "      <th>emg_min_1</th>\n",
       "      <td>5.728336</td>\n",
       "    </tr>\n",
       "    <tr>\n",
       "      <th>emg_ampl_2</th>\n",
       "      <td>3.512238</td>\n",
       "    </tr>\n",
       "    <tr>\n",
       "      <th>emg_max_0</th>\n",
       "      <td>3.386971</td>\n",
       "    </tr>\n",
       "    <tr>\n",
       "      <th>emg_min_0</th>\n",
       "      <td>3.091366</td>\n",
       "    </tr>\n",
       "    <tr>\n",
       "      <th>emg_med_2</th>\n",
       "      <td>2.486368</td>\n",
       "    </tr>\n",
       "    <tr>\n",
       "      <th>emg_max_1</th>\n",
       "      <td>2.197798</td>\n",
       "    </tr>\n",
       "    <tr>\n",
       "      <th>emg_min_2</th>\n",
       "      <td>1.164072</td>\n",
       "    </tr>\n",
       "    <tr>\n",
       "      <th>emg_max_2</th>\n",
       "      <td>1.155114</td>\n",
       "    </tr>\n",
       "    <tr>\n",
       "      <th>emg_prev_1_0</th>\n",
       "      <td>0.526912</td>\n",
       "    </tr>\n",
       "    <tr>\n",
       "      <th>emg_prev_1_18</th>\n",
       "      <td>0.518498</td>\n",
       "    </tr>\n",
       "    <tr>\n",
       "      <th>emg_prev_0_18</th>\n",
       "      <td>0.441826</td>\n",
       "    </tr>\n",
       "    <tr>\n",
       "      <th>emg_prev_2_0</th>\n",
       "      <td>0.422920</td>\n",
       "    </tr>\n",
       "    <tr>\n",
       "      <th>emg_prev_0_19</th>\n",
       "      <td>0.387362</td>\n",
       "    </tr>\n",
       "    <tr>\n",
       "      <th>emg_prev_1_15</th>\n",
       "      <td>0.364970</td>\n",
       "    </tr>\n",
       "    <tr>\n",
       "      <th>emg_prev_0_6</th>\n",
       "      <td>0.333430</td>\n",
       "    </tr>\n",
       "    <tr>\n",
       "      <th>emg_prev_1_19</th>\n",
       "      <td>0.331982</td>\n",
       "    </tr>\n",
       "    <tr>\n",
       "      <th>emg_prev_1_1</th>\n",
       "      <td>0.329611</td>\n",
       "    </tr>\n",
       "    <tr>\n",
       "      <th>emg_0</th>\n",
       "      <td>0.326855</td>\n",
       "    </tr>\n",
       "    <tr>\n",
       "      <th>emg_prev_2_18</th>\n",
       "      <td>0.325155</td>\n",
       "    </tr>\n",
       "    <tr>\n",
       "      <th>emg_prev_1_13</th>\n",
       "      <td>0.323697</td>\n",
       "    </tr>\n",
       "    <tr>\n",
       "      <th>emg_prev_1_7</th>\n",
       "      <td>0.313512</td>\n",
       "    </tr>\n",
       "    <tr>\n",
       "      <th>emg_prev_2_14</th>\n",
       "      <td>0.307998</td>\n",
       "    </tr>\n",
       "    <tr>\n",
       "      <th>emg_prev_2_2</th>\n",
       "      <td>0.305907</td>\n",
       "    </tr>\n",
       "    <tr>\n",
       "      <th>emg_prev_1_5</th>\n",
       "      <td>0.302883</td>\n",
       "    </tr>\n",
       "    <tr>\n",
       "      <th>emg_prev_1_9</th>\n",
       "      <td>0.297727</td>\n",
       "    </tr>\n",
       "    <tr>\n",
       "      <th>emg_prev_1_2</th>\n",
       "      <td>0.291905</td>\n",
       "    </tr>\n",
       "    <tr>\n",
       "      <th>...</th>\n",
       "      <td>...</td>\n",
       "    </tr>\n",
       "    <tr>\n",
       "      <th>emg_prev_1_8</th>\n",
       "      <td>0.231185</td>\n",
       "    </tr>\n",
       "    <tr>\n",
       "      <th>emg_prev_2_8</th>\n",
       "      <td>0.229350</td>\n",
       "    </tr>\n",
       "    <tr>\n",
       "      <th>emg_prev_0_14</th>\n",
       "      <td>0.227903</td>\n",
       "    </tr>\n",
       "    <tr>\n",
       "      <th>emg_prev_0_0</th>\n",
       "      <td>0.219514</td>\n",
       "    </tr>\n",
       "    <tr>\n",
       "      <th>emg_prev_2_5</th>\n",
       "      <td>0.218151</td>\n",
       "    </tr>\n",
       "    <tr>\n",
       "      <th>emg_prev_2_3</th>\n",
       "      <td>0.217513</td>\n",
       "    </tr>\n",
       "    <tr>\n",
       "      <th>emg_prev_1_14</th>\n",
       "      <td>0.215466</td>\n",
       "    </tr>\n",
       "    <tr>\n",
       "      <th>emg_prev_2_17</th>\n",
       "      <td>0.213575</td>\n",
       "    </tr>\n",
       "    <tr>\n",
       "      <th>emg_prev_0_8</th>\n",
       "      <td>0.211448</td>\n",
       "    </tr>\n",
       "    <tr>\n",
       "      <th>emg_1</th>\n",
       "      <td>0.206244</td>\n",
       "    </tr>\n",
       "    <tr>\n",
       "      <th>emg_2</th>\n",
       "      <td>0.205139</td>\n",
       "    </tr>\n",
       "    <tr>\n",
       "      <th>emg_prev_0_13</th>\n",
       "      <td>0.197899</td>\n",
       "    </tr>\n",
       "    <tr>\n",
       "      <th>emg_prev_2_6</th>\n",
       "      <td>0.196744</td>\n",
       "    </tr>\n",
       "    <tr>\n",
       "      <th>emg_prev_1_17</th>\n",
       "      <td>0.190648</td>\n",
       "    </tr>\n",
       "    <tr>\n",
       "      <th>emg_prev_1_12</th>\n",
       "      <td>0.187731</td>\n",
       "    </tr>\n",
       "    <tr>\n",
       "      <th>emg_prev_1_10</th>\n",
       "      <td>0.184648</td>\n",
       "    </tr>\n",
       "    <tr>\n",
       "      <th>emg_prev_2_13</th>\n",
       "      <td>0.178115</td>\n",
       "    </tr>\n",
       "    <tr>\n",
       "      <th>emg_prev_0_4</th>\n",
       "      <td>0.171858</td>\n",
       "    </tr>\n",
       "    <tr>\n",
       "      <th>emg_prev_0_15</th>\n",
       "      <td>0.170845</td>\n",
       "    </tr>\n",
       "    <tr>\n",
       "      <th>emg_prev_0_5</th>\n",
       "      <td>0.167375</td>\n",
       "    </tr>\n",
       "    <tr>\n",
       "      <th>emg_prev_2_9</th>\n",
       "      <td>0.148160</td>\n",
       "    </tr>\n",
       "    <tr>\n",
       "      <th>emg_prev_0_3</th>\n",
       "      <td>0.140268</td>\n",
       "    </tr>\n",
       "    <tr>\n",
       "      <th>emg_prev_0_12</th>\n",
       "      <td>0.124882</td>\n",
       "    </tr>\n",
       "    <tr>\n",
       "      <th>emg_prev_0_11</th>\n",
       "      <td>0.124710</td>\n",
       "    </tr>\n",
       "    <tr>\n",
       "      <th>emg_prev_1_11</th>\n",
       "      <td>0.119539</td>\n",
       "    </tr>\n",
       "    <tr>\n",
       "      <th>emg_prev_0_16</th>\n",
       "      <td>0.108364</td>\n",
       "    </tr>\n",
       "    <tr>\n",
       "      <th>emg_prev_2_7</th>\n",
       "      <td>0.103607</td>\n",
       "    </tr>\n",
       "    <tr>\n",
       "      <th>emg_prev_2_11</th>\n",
       "      <td>0.100771</td>\n",
       "    </tr>\n",
       "    <tr>\n",
       "      <th>emg_prev_2_12</th>\n",
       "      <td>0.100034</td>\n",
       "    </tr>\n",
       "    <tr>\n",
       "      <th>emg_prev_2_16</th>\n",
       "      <td>0.096237</td>\n",
       "    </tr>\n",
       "  </tbody>\n",
       "</table>\n",
       "<p>75 rows × 1 columns</p>\n",
       "</div>"
      ],
      "text/plain": [
       "               importance\n",
       "feature                  \n",
       "emg_ampl_0      30.446331\n",
       "emg_ampl_1      13.204194\n",
       "emg_med_0        9.298606\n",
       "emg_med_1        8.845004\n",
       "emg_min_1        5.728336\n",
       "emg_ampl_2       3.512238\n",
       "emg_max_0        3.386971\n",
       "emg_min_0        3.091366\n",
       "emg_med_2        2.486368\n",
       "emg_max_1        2.197798\n",
       "emg_min_2        1.164072\n",
       "emg_max_2        1.155114\n",
       "emg_prev_1_0     0.526912\n",
       "emg_prev_1_18    0.518498\n",
       "emg_prev_0_18    0.441826\n",
       "emg_prev_2_0     0.422920\n",
       "emg_prev_0_19    0.387362\n",
       "emg_prev_1_15    0.364970\n",
       "emg_prev_0_6     0.333430\n",
       "emg_prev_1_19    0.331982\n",
       "emg_prev_1_1     0.329611\n",
       "emg_0            0.326855\n",
       "emg_prev_2_18    0.325155\n",
       "emg_prev_1_13    0.323697\n",
       "emg_prev_1_7     0.313512\n",
       "emg_prev_2_14    0.307998\n",
       "emg_prev_2_2     0.305907\n",
       "emg_prev_1_5     0.302883\n",
       "emg_prev_1_9     0.297727\n",
       "emg_prev_1_2     0.291905\n",
       "...                   ...\n",
       "emg_prev_1_8     0.231185\n",
       "emg_prev_2_8     0.229350\n",
       "emg_prev_0_14    0.227903\n",
       "emg_prev_0_0     0.219514\n",
       "emg_prev_2_5     0.218151\n",
       "emg_prev_2_3     0.217513\n",
       "emg_prev_1_14    0.215466\n",
       "emg_prev_2_17    0.213575\n",
       "emg_prev_0_8     0.211448\n",
       "emg_1            0.206244\n",
       "emg_2            0.205139\n",
       "emg_prev_0_13    0.197899\n",
       "emg_prev_2_6     0.196744\n",
       "emg_prev_1_17    0.190648\n",
       "emg_prev_1_12    0.187731\n",
       "emg_prev_1_10    0.184648\n",
       "emg_prev_2_13    0.178115\n",
       "emg_prev_0_4     0.171858\n",
       "emg_prev_0_15    0.170845\n",
       "emg_prev_0_5     0.167375\n",
       "emg_prev_2_9     0.148160\n",
       "emg_prev_0_3     0.140268\n",
       "emg_prev_0_12    0.124882\n",
       "emg_prev_0_11    0.124710\n",
       "emg_prev_1_11    0.119539\n",
       "emg_prev_0_16    0.108364\n",
       "emg_prev_2_7     0.103607\n",
       "emg_prev_2_11    0.100771\n",
       "emg_prev_2_12    0.100034\n",
       "emg_prev_2_16    0.096237\n",
       "\n",
       "[75 rows x 1 columns]"
      ]
     },
     "metadata": {},
     "output_type": "display_data"
    }
   ],
   "source": [
    "df_importances = displayImp(clf, X_train)"
   ]
  },
  {
   "cell_type": "code",
   "execution_count": 118,
   "metadata": {
    "scrolled": true
   },
   "outputs": [
    {
     "ename": "NameError",
     "evalue": "name 'y_pred' is not defined",
     "output_type": "error",
     "traceback": [
      "\u001b[1;31m---------------------------------------------------------------------------\u001b[0m",
      "\u001b[1;31mNameError\u001b[0m                                 Traceback (most recent call last)",
      "\u001b[1;32m<ipython-input-118-b123e04c5193>\u001b[0m in \u001b[0;36m<module>\u001b[1;34m\u001b[0m\n\u001b[1;32m----> 1\u001b[1;33m \u001b[0maccuracy_score\u001b[0m\u001b[1;33m(\u001b[0m\u001b[0my_test\u001b[0m\u001b[1;33m,\u001b[0m \u001b[0my_pred\u001b[0m\u001b[1;33m)\u001b[0m\u001b[1;33m\u001b[0m\u001b[1;33m\u001b[0m\u001b[0m\n\u001b[0m",
      "\u001b[1;31mNameError\u001b[0m: name 'y_pred' is not defined"
     ]
    }
   ],
   "source": [
    "accuracy_score(y_test, y_pred)"
   ]
  },
  {
   "cell_type": "code",
   "execution_count": null,
   "metadata": {},
   "outputs": [],
   "source": [
    "clf.save_model(\"model_8_mark\")"
   ]
  },
  {
   "cell_type": "code",
   "execution_count": 23,
   "metadata": {},
   "outputs": [
    {
     "data": {
      "text/plain": [
       "MinMaxScaler(copy=True, feature_range=(0, 1))"
      ]
     },
     "execution_count": 23,
     "metadata": {},
     "output_type": "execute_result"
    }
   ],
   "source": [
    "from sklearn.preprocessing import MinMaxScaler\n",
    "scalar = MinMaxScaler()\n",
    "scalar.fit(X_train)"
   ]
  },
  {
   "cell_type": "code",
   "execution_count": 24,
   "metadata": {},
   "outputs": [],
   "source": [
    "X_train = scalar.transform(X_train)"
   ]
  },
  {
   "cell_type": "code",
   "execution_count": 25,
   "metadata": {},
   "outputs": [],
   "source": [
    "X_test = scalar.transform(X_test)"
   ]
  },
  {
   "cell_type": "code",
   "execution_count": 26,
   "metadata": {},
   "outputs": [
    {
     "data": {
      "text/plain": [
       "array([[0.01160292, 0.68780488, 0.56943057, ..., 0.38661339, 0.38661339,\n",
       "        0.38353414],\n",
       "       [0.00322303, 0.68292683, 0.58941059, ..., 0.48751249, 0.48751249,\n",
       "        0.48493976],\n",
       "       [0.00558659, 0.65609756, 0.45654346, ..., 0.48751249, 0.48751249,\n",
       "        0.48493976],\n",
       "       ...,\n",
       "       [0.00601633, 0.68780488, 0.4975025 , ..., 0.48051948, 0.48051948,\n",
       "        0.47791165],\n",
       "       [0.01117318, 0.70731707, 0.51548452, ..., 0.48251748, 0.48251748,\n",
       "        0.48694779],\n",
       "       [0.0034379 , 0.64146341, 0.50749251, ..., 0.51148851, 0.51448551,\n",
       "        0.51204819]])"
      ]
     },
     "execution_count": 26,
     "metadata": {},
     "output_type": "execute_result"
    }
   ],
   "source": [
    "X_test"
   ]
  },
  {
   "cell_type": "code",
   "execution_count": 27,
   "metadata": {},
   "outputs": [
    {
     "data": {
      "text/plain": [
       "array([[0.0062312 , 0.74146341, 0.51148851, ..., 0.49450549, 0.5034965 ,\n",
       "        0.50100402],\n",
       "       [0.00687581, 0.70487805, 0.4955045 , ..., 0.48551449, 0.48551449,\n",
       "        0.48293173],\n",
       "       [0.00687581, 0.65853659, 0.43956044, ..., 0.44355644, 0.44355644,\n",
       "        0.43875502],\n",
       "       ...,\n",
       "       [0.00773528, 0.57073171, 0.46053946, ..., 0.45854146, 0.45854146,\n",
       "        0.45582329],\n",
       "       [0.00644607, 0.63902439, 0.37462537, ..., 0.51248751, 0.51248751,\n",
       "        0.49297189],\n",
       "       [0.00752041, 0.65365854, 0.50749251, ..., 0.53846154, 0.53846154,\n",
       "        0.53614458]])"
      ]
     },
     "execution_count": 27,
     "metadata": {},
     "output_type": "execute_result"
    }
   ],
   "source": [
    "X_train"
   ]
  },
  {
   "cell_type": "code",
   "execution_count": 28,
   "metadata": {},
   "outputs": [
    {
     "name": "stderr",
     "output_type": "stream",
     "text": [
      "Using TensorFlow backend.\n"
     ]
    }
   ],
   "source": [
    "import keras"
   ]
  },
  {
   "cell_type": "code",
   "execution_count": 373,
   "metadata": {},
   "outputs": [
    {
     "data": {
      "text/plain": [
       "0"
      ]
     },
     "execution_count": 373,
     "metadata": {},
     "output_type": "execute_result"
    }
   ],
   "source": [
    "0"
   ]
  },
  {
   "cell_type": "code",
   "execution_count": 29,
   "metadata": {},
   "outputs": [],
   "source": [
    "data[\"0\"] = [1 if i == 0 else 0 for i in data[\"type\"]] \n",
    "data[\"1\"] = [1 if i == 1 else 0 for i in data[\"type\"]] \n",
    "data[\"2\"] = [1 if i == 2 else 0 for i in data[\"type\"]] "
   ]
  },
  {
   "cell_type": "code",
   "execution_count": null,
   "metadata": {},
   "outputs": [],
   "source": []
  },
  {
   "cell_type": "code",
   "execution_count": null,
   "metadata": {},
   "outputs": [],
   "source": []
  },
  {
   "cell_type": "code",
   "execution_count": 30,
   "metadata": {},
   "outputs": [],
   "source": [
    "from numpy.random import seed\n",
    "seed(42)"
   ]
  },
  {
   "cell_type": "code",
   "execution_count": 31,
   "metadata": {},
   "outputs": [],
   "source": [
    "from keras.models import Sequential\n",
    "from keras.layers import Dense, Activation\n",
    "\n",
    "# model = Sequential([\n",
    "#     Dense(50, input_shape=(75,)),\n",
    "#     Activation('softmax'),\n",
    "#     Dense(1),\n",
    "#     Activation('softmax'),\n",
    "# ])\n",
    "model = Sequential()\n",
    "# model.add(Dense(140, activation='relu', input_dim=75))\n",
    "# model.add(Dense(140, activation='sigmoid'))\n",
    "# model.add(Dense(140, activation='sigmoid'))\n",
    "# model.add(Dense(3, activation='sigmoid'))\n",
    "\n",
    "# model.compile(loss='mean_squared_error', optimizer='adam')\n",
    "\n",
    "\n",
    "\n",
    "# one_hot_labels = keras.utils.to_categorical([0, 1, 2], num_classes=3)"
   ]
  },
  {
   "cell_type": "code",
   "execution_count": null,
   "metadata": {},
   "outputs": [],
   "source": [
    "# 85.9\n",
    "model = Sequential()\n",
    "model.add(Dense(140, activation='relu', input_dim=75))\n",
    "model.add(Dense(240, activation='sigmoid'))\n",
    "model.add(Dense(3, activation='sigmoid'))"
   ]
  },
  {
   "cell_type": "code",
   "execution_count": 37,
   "metadata": {},
   "outputs": [],
   "source": [
    "# 94\n",
    "model = Sequential()\n",
    "model.add(Dense(140, activation='relu', input_dim=75))\n",
    "model.add(Dense(140, activation='sigmoid'))\n",
    "model.add(Dense(3, activation='sigmoid'))"
   ]
  },
  {
   "cell_type": "code",
   "execution_count": 293,
   "metadata": {},
   "outputs": [],
   "source": [
    "model = Sequential()\n",
    "# model = Sequential()\n",
    "model.add(Dense(180, activation='relu', input_dim=75))\n",
    "model.add(Dense(180, activation='sigmoid'))\n",
    "model.add(Dense(3, activation='sigmoid'))"
   ]
  },
  {
   "cell_type": "code",
   "execution_count": 59,
   "metadata": {},
   "outputs": [],
   "source": [
    "opt = keras.optimizers.Adam(lr=0.00055)\n",
    "model.compile(optimizer=opt,\n",
    "              loss='categorical_crossentropy',\n",
    "              metrics=['accuracy'])"
   ]
  },
  {
   "cell_type": "code",
   "execution_count": null,
   "metadata": {},
   "outputs": [],
   "source": [
    "from keras.wrappers.scikit_learn import KerasClassifier"
   ]
  },
  {
   "cell_type": "code",
   "execution_count": null,
   "metadata": {},
   "outputs": [],
   "source": [
    "from keras.wrappers.scikit_learn import KerasRegressor"
   ]
  },
  {
   "cell_type": "code",
   "execution_count": null,
   "metadata": {},
   "outputs": [],
   "source": [
    "# model_ker = KerasClassifier(build_fn=model, epochs=15, batch_size=10, verbose=0)"
   ]
  },
  {
   "cell_type": "code",
   "execution_count": 431,
   "metadata": {},
   "outputs": [
    {
     "data": {
      "text/plain": [
       "array([[0.00815801, 0.34375   , 0.4126612 , ..., 0.53446553, 0.53446553,\n",
       "        0.45369285],\n",
       "       [0.00300558, 0.3828125 , 0.44783118, ..., 0.48251748, 0.48251748,\n",
       "        0.38100821],\n",
       "       [0.00815801, 0.4609375 , 0.41148886, ..., 0.53146853, 0.53146853,\n",
       "        0.42907386],\n",
       "       ...,\n",
       "       [0.0068699 , 0.515625  , 0.42321219, ..., 0.46653347, 0.47852148,\n",
       "        0.3880422 ],\n",
       "       [0.0068699 , 0.4921875 , 0.37514654, ..., 0.49050949, 0.49050949,\n",
       "        0.4021102 ],\n",
       "       [0.00837269, 0.46875   , 0.42203986, ..., 0.53846154, 0.53846154,\n",
       "        0.45838218]])"
      ]
     },
     "execution_count": 431,
     "metadata": {},
     "output_type": "execute_result"
    }
   ],
   "source": [
    "X_train"
   ]
  },
  {
   "cell_type": "code",
   "execution_count": null,
   "metadata": {},
   "outputs": [],
   "source": [
    "estimator = KerasRegressor(build_fn=model, epochs=5, batch_size=1, verbose=0)"
   ]
  },
  {
   "cell_type": "code",
   "execution_count": null,
   "metadata": {
    "scrolled": true
   },
   "outputs": [
    {
     "name": "stdout",
     "output_type": "stream",
     "text": [
      "Epoch 1/100\n",
      "3797/3797 [==============================] - 1s 246us/step - loss: 0.1330 - acc: 0.9473\n",
      "Epoch 2/100\n",
      "3797/3797 [==============================] - 1s 225us/step - loss: 0.1305 - acc: 0.9526\n",
      "Epoch 3/100\n",
      "3797/3797 [==============================] - 1s 222us/step - loss: 0.1334 - acc: 0.9489\n",
      "Epoch 4/100\n",
      "3797/3797 [==============================] - 1s 216us/step - loss: 0.1312 - acc: 0.9505\n",
      "Epoch 5/100\n",
      "3797/3797 [==============================] - 1s 213us/step - loss: 0.1205 - acc: 0.9544\n",
      "Epoch 6/100\n",
      "3797/3797 [==============================] - 1s 217us/step - loss: 0.1255 - acc: 0.9550\n",
      "Epoch 7/100\n",
      "3797/3797 [==============================] - 1s 215us/step - loss: 0.1252 - acc: 0.9521\n",
      "Epoch 8/100\n",
      "3797/3797 [==============================] - 1s 216us/step - loss: 0.1314 - acc: 0.9489\n",
      "Epoch 9/100\n",
      "3797/3797 [==============================] - 1s 225us/step - loss: 0.1258 - acc: 0.9552\n",
      "Epoch 10/100\n",
      "3797/3797 [==============================] - 1s 226us/step - loss: 0.1404 - acc: 0.9486\n",
      "Epoch 11/100\n",
      "3797/3797 [==============================] - 1s 225us/step - loss: 0.1337 - acc: 0.9500\n",
      "Epoch 12/100\n",
      "3797/3797 [==============================] - 1s 222us/step - loss: 0.1204 - acc: 0.9555\n",
      "Epoch 13/100\n",
      "3797/3797 [==============================] - 1s 208us/step - loss: 0.1246 - acc: 0.9529\n",
      "Epoch 14/100\n",
      "3797/3797 [==============================] - 1s 211us/step - loss: 0.1321 - acc: 0.9505\n",
      "Epoch 15/100\n",
      "2460/3797 [==================>...........] - ETA: 0s - loss: 0.1200 - acc: 0.9602"
     ]
    }
   ],
   "source": [
    "model.fit(X_train, y_train, epochs=100, batch_size=10)"
   ]
  },
  {
   "cell_type": "code",
   "execution_count": 43,
   "metadata": {},
   "outputs": [
    {
     "data": {
      "text/plain": [
       "<keras.engine.sequential.Sequential at 0x19f05334eb8>"
      ]
     },
     "execution_count": 43,
     "metadata": {},
     "output_type": "execute_result"
    }
   ],
   "source": [
    "model"
   ]
  },
  {
   "cell_type": "code",
   "execution_count": null,
   "metadata": {},
   "outputs": [],
   "source": [
    "estimator.fit(inputs=[X_train, y_train])"
   ]
  },
  {
   "cell_type": "code",
   "execution_count": 19,
   "metadata": {
    "scrolled": true
   },
   "outputs": [
    {
     "name": "stdout",
     "output_type": "stream",
     "text": [
      "Epoch 1/10\n",
      "1000/1000 [==============================] - 0s 184us/step - loss: 0.2568\n",
      "Epoch 2/10\n",
      "1000/1000 [==============================] - 0s 39us/step - loss: 0.2497\n",
      "Epoch 3/10\n",
      "1000/1000 [==============================] - 0s 42us/step - loss: 0.2468\n",
      "Epoch 4/10\n",
      "1000/1000 [==============================] - 0s 42us/step - loss: 0.2445\n",
      "Epoch 5/10\n",
      "1000/1000 [==============================] - 0s 40us/step - loss: 0.2432\n",
      "Epoch 6/10\n",
      "1000/1000 [==============================] - 0s 41us/step - loss: 0.2436\n",
      "Epoch 7/10\n",
      "1000/1000 [==============================] - 0s 42us/step - loss: 0.2406\n",
      "Epoch 8/10\n",
      "1000/1000 [==============================] - 0s 46us/step - loss: 0.2384\n",
      "Epoch 9/10\n",
      "1000/1000 [==============================] - 0s 39us/step - loss: 0.2374\n",
      "Epoch 10/10\n",
      "1000/1000 [==============================] - 0s 44us/step - loss: 0.2360\n"
     ]
    },
    {
     "data": {
      "text/plain": [
       "<keras.callbacks.History at 0x7efe1a5ce7b8>"
      ]
     },
     "execution_count": 19,
     "metadata": {},
     "output_type": "execute_result"
    }
   ],
   "source": [
    "# For a single-input model with 2 classes (binary classification):\n",
    "\n",
    "model = Sequential()\n",
    "model.add(Dense(32, activation='relu', input_dim=100))\n",
    "model.add(Dense(1, activation='sigmoid'))\n",
    "model.compile(loss='mean_squared_error', optimizer='adam')\n",
    "\n",
    "# Generate dummy data\n",
    "import numpy as np\n",
    "data = np.random.random((1000, 100))\n",
    "labels = np.random.randint(2, size=(1000, 1))\n",
    "\n",
    "# Train the model, iterating on the data in batches of 32 samples\n",
    "model.fit(data, labels, epochs=10, batch_size=32)\n",
    "\n"
   ]
  },
  {
   "cell_type": "code",
   "execution_count": null,
   "metadata": {},
   "outputs": [],
   "source": []
  },
  {
   "cell_type": "code",
   "execution_count": 185,
   "metadata": {
    "scrolled": true
   },
   "outputs": [
    {
     "data": {
      "text/plain": [
       "array([[0.00708459, 0.4375    , 0.5044955 , ..., 0.52247752, 0.52247752,\n",
       "        0.43962485],\n",
       "       [0.00300558, 0.453125  , 0.41858142, ..., 0.47852148, 0.46253746,\n",
       "        0.36928488],\n",
       "       [0.00343495, 0.375     , 0.46153846, ..., 0.50749251, 0.50749251,\n",
       "        0.3985932 ],\n",
       "       ...,\n",
       "       [0.01309575, 0.6953125 , 0.56343656, ..., 0.4005994 , 0.4005994 ,\n",
       "        0.29660023],\n",
       "       [0.00837269, 0.5390625 , 0.5004995 , ..., 0.51648352, 0.51648352,\n",
       "        0.43259086],\n",
       "       [0.01073422, 0.7109375 , 0.54245754, ..., 0.42457542, 0.42457542,\n",
       "        0.32473623]])"
      ]
     },
     "execution_count": 185,
     "metadata": {},
     "output_type": "execute_result"
    }
   ],
   "source": [
    "X_test"
   ]
  },
  {
   "cell_type": "code",
   "execution_count": 73,
   "metadata": {},
   "outputs": [
    {
     "data": {
      "text/plain": [
       "0.9004739336492891"
      ]
     },
     "execution_count": 73,
     "metadata": {},
     "output_type": "execute_result"
    }
   ],
   "source": [
    "y_p = model.predict(X_test)\n",
    "y = [ np.argmax(i) for i in y_p]\n",
    "accuracy_score(y_test[\"type\"], y)"
   ]
  },
  {
   "cell_type": "code",
   "execution_count": null,
   "metadata": {},
   "outputs": [],
   "source": []
  },
  {
   "cell_type": "code",
   "execution_count": 272,
   "metadata": {},
   "outputs": [
    {
     "data": {
      "text/plain": [
       "338"
      ]
     },
     "execution_count": 272,
     "metadata": {},
     "output_type": "execute_result"
    }
   ],
   "source": [
    "len(y)"
   ]
  },
  {
   "cell_type": "code",
   "execution_count": 190,
   "metadata": {},
   "outputs": [
    {
     "data": {
      "text/plain": [
       "array([[0.00708459, 0.4375    , 0.5044955 , ..., 0.52247752, 0.52247752,\n",
       "        0.43962485],\n",
       "       [0.00300558, 0.453125  , 0.41858142, ..., 0.47852148, 0.46253746,\n",
       "        0.36928488],\n",
       "       [0.00343495, 0.375     , 0.46153846, ..., 0.50749251, 0.50749251,\n",
       "        0.3985932 ],\n",
       "       ...,\n",
       "       [0.01309575, 0.6953125 , 0.56343656, ..., 0.4005994 , 0.4005994 ,\n",
       "        0.29660023],\n",
       "       [0.00837269, 0.5390625 , 0.5004995 , ..., 0.51648352, 0.51648352,\n",
       "        0.43259086],\n",
       "       [0.01073422, 0.7109375 , 0.54245754, ..., 0.42457542, 0.42457542,\n",
       "        0.32473623]])"
      ]
     },
     "execution_count": 190,
     "metadata": {},
     "output_type": "execute_result"
    }
   ],
   "source": [
    "X_test"
   ]
  },
  {
   "cell_type": "code",
   "execution_count": 191,
   "metadata": {},
   "outputs": [
    {
     "data": {
      "text/plain": [
       "0.8926174496644296"
      ]
     },
     "execution_count": 191,
     "metadata": {},
     "output_type": "execute_result"
    }
   ],
   "source": []
  },
  {
   "cell_type": "code",
   "execution_count": 97,
   "metadata": {
    "scrolled": true
   },
   "outputs": [
    {
     "data": {
      "text/plain": [
       "312     2\n",
       "142     2\n",
       "204     2\n",
       "753     1\n",
       "703     2\n",
       "609     2\n",
       "463     0\n",
       "433     2\n",
       "847     0\n",
       "1034    0\n",
       "139     1\n",
       "787     0\n",
       "736     0\n",
       "598     0\n",
       "93      0\n",
       "746     2\n",
       "194     1\n",
       "32      1\n",
       "750     1\n",
       "144     0\n",
       "517     1\n",
       "831     2\n",
       "842     0\n",
       "342     1\n",
       "665     2\n",
       "192     0\n",
       "436     0\n",
       "63      0\n",
       "155     1\n",
       "700     0\n",
       "       ..\n",
       "650     2\n",
       "387     0\n",
       "195     2\n",
       "73      0\n",
       "543     2\n",
       "790     2\n",
       "541     2\n",
       "155     2\n",
       "515     1\n",
       "597     1\n",
       "698     1\n",
       "148     2\n",
       "471     1\n",
       "124     2\n",
       "642     2\n",
       "859     1\n",
       "220     2\n",
       "692     2\n",
       "632     1\n",
       "526     1\n",
       "675     2\n",
       "897     0\n",
       "793     1\n",
       "662     2\n",
       "479     1\n",
       "3       2\n",
       "239     0\n",
       "661     1\n",
       "505     2\n",
       "512     1\n",
       "Name: type, Length: 298, dtype: int64"
      ]
     },
     "execution_count": 97,
     "metadata": {},
     "output_type": "execute_result"
    }
   ],
   "source": [
    "y_test[\"type\"]"
   ]
  },
  {
   "cell_type": "code",
   "execution_count": 98,
   "metadata": {},
   "outputs": [
    {
     "data": {
      "text/plain": [
       "array([[6.16790295e-01, 7.38144692e-08, 2.28835151e-01],\n",
       "       [7.63659682e-06, 2.64736651e-20, 9.77587029e-02],\n",
       "       [5.25071084e-01, 4.31659146e-07, 2.81523317e-01],\n",
       "       [3.88377726e-01, 6.56483152e-08, 2.58411855e-01],\n",
       "       [1.81278374e-04, 2.80891255e-10, 6.38406813e-01],\n",
       "       [1.55311534e-02, 6.43278327e-06, 5.49317420e-01],\n",
       "       [1.55178161e-04, 3.15797855e-09, 6.89083517e-01],\n",
       "       [4.67786958e-06, 1.99699753e-11, 5.92953742e-01],\n",
       "       [2.44589646e-05, 1.55070158e-11, 6.00149155e-01],\n",
       "       [3.67658249e-05, 1.33813599e-10, 3.22782844e-01],\n",
       "       [1.93906084e-01, 3.02988265e-05, 4.38921511e-01],\n",
       "       [4.19410499e-05, 2.50393761e-10, 5.00393331e-01],\n",
       "       [2.09737642e-04, 4.94556351e-09, 6.89300120e-01],\n",
       "       [1.03004437e-04, 1.40454492e-09, 6.68713391e-01],\n",
       "       [2.21983537e-05, 1.36917864e-11, 5.25727332e-01],\n",
       "       [7.62988930e-05, 6.67221389e-10, 6.67608082e-01],\n",
       "       [5.25071084e-01, 4.31659146e-07, 2.81523317e-01],\n",
       "       [2.62953192e-01, 1.26294253e-05, 4.06204313e-01],\n",
       "       [3.11172277e-01, 1.18066595e-07, 2.40975305e-01],\n",
       "       [6.57070559e-05, 9.70098113e-10, 6.28473222e-01],\n",
       "       [1.35898158e-01, 6.35706092e-05, 4.75193828e-01],\n",
       "       [2.23153038e-05, 1.08336833e-10, 5.13326228e-01],\n",
       "       [4.89327649e-05, 5.94912286e-10, 6.16460085e-01],\n",
       "       [2.81782329e-01, 1.12578900e-05, 4.02317971e-01],\n",
       "       [4.94602114e-01, 5.05957338e-08, 2.20099956e-01],\n",
       "       [2.23206862e-05, 1.27312232e-11, 1.78651243e-01],\n",
       "       [1.61983247e-04, 3.74528852e-09, 6.61637723e-01],\n",
       "       [1.12785230e-04, 1.88999638e-09, 6.54021502e-01],\n",
       "       [6.06251299e-01, 1.08725530e-07, 2.41943255e-01],\n",
       "       [1.09854351e-04, 1.77614445e-09, 6.55405641e-01],\n",
       "       [6.16790175e-01, 7.38148884e-08, 2.28835285e-01],\n",
       "       [4.85579103e-01, 1.93117842e-08, 2.05977514e-01],\n",
       "       [4.08239393e-05, 2.95631783e-11, 1.58334062e-01],\n",
       "       [2.32861057e-04, 7.54286766e-09, 6.77223623e-01],\n",
       "       [4.19410499e-05, 2.50393761e-10, 5.00393331e-01],\n",
       "       [7.03072473e-02, 4.48853186e-08, 2.10702196e-01],\n",
       "       [2.23578827e-05, 9.24080604e-11, 5.04096985e-01],\n",
       "       [1.29208595e-01, 4.69558800e-05, 4.51426178e-01],\n",
       "       [1.51294473e-04, 2.87167801e-09, 6.91600323e-01],\n",
       "       [2.89356522e-05, 1.70993567e-10, 4.46964383e-01],\n",
       "       [6.00217718e-05, 7.79344034e-10, 6.01914942e-01],\n",
       "       [5.68702817e-01, 2.84091044e-07, 2.68225253e-01],\n",
       "       [9.63482931e-02, 8.48535856e-05, 4.60831702e-01],\n",
       "       [1.68749066e-05, 1.40775117e-11, 2.00858086e-01],\n",
       "       [1.51294473e-04, 2.87167801e-09, 6.91600323e-01],\n",
       "       [8.18054006e-02, 4.39206924e-05, 4.40031290e-01],\n",
       "       [1.34056871e-04, 3.43288664e-09, 5.43862402e-01],\n",
       "       [2.01161988e-02, 6.01904540e-05, 5.83367765e-01],\n",
       "       [1.65450867e-04, 3.93781363e-09, 6.80662453e-01],\n",
       "       [2.62953192e-01, 1.26294253e-05, 4.06204313e-01],\n",
       "       [1.81981508e-04, 6.86505608e-09, 6.25431836e-01],\n",
       "       [1.30882821e-04, 2.94252112e-09, 6.94204569e-01],\n",
       "       [5.25071084e-01, 4.31659146e-07, 2.81523317e-01],\n",
       "       [1.35450631e-01, 6.33229065e-05, 4.75135028e-01],\n",
       "       [3.09144389e-02, 4.84109296e-06, 4.89378333e-01],\n",
       "       [2.27743549e-05, 4.60415213e-11, 4.01622027e-01],\n",
       "       [6.31969451e-05, 8.10692569e-10, 5.12036443e-01],\n",
       "       [5.78440493e-03, 2.22079368e-08, 2.12963879e-01],\n",
       "       [2.62953192e-01, 1.26294253e-05, 4.06204313e-01],\n",
       "       [2.02489580e-04, 4.82833729e-09, 6.86679959e-01],\n",
       "       [1.40673469e-03, 2.32934787e-12, 2.96481013e-01],\n",
       "       [2.62953192e-01, 1.26294253e-05, 4.06204313e-01],\n",
       "       [5.17577319e-05, 7.05530467e-10, 5.85282147e-01],\n",
       "       [6.16317921e-05, 5.06367226e-10, 6.79740071e-01],\n",
       "       [3.39441770e-03, 9.75860871e-07, 6.21780753e-01],\n",
       "       [3.77724767e-01, 3.63466086e-07, 2.86384374e-01],\n",
       "       [1.25502793e-05, 1.66839164e-11, 3.40856791e-01],\n",
       "       [1.71493337e-01, 2.05973392e-05, 4.44666475e-01],\n",
       "       [1.52921188e-03, 3.21091306e-07, 6.40768409e-01],\n",
       "       [3.68028700e-01, 2.94913093e-07, 2.79561520e-01],\n",
       "       [8.48295676e-05, 1.57766089e-09, 6.41167760e-01],\n",
       "       [5.68702817e-01, 2.84091044e-07, 2.68225253e-01],\n",
       "       [6.35207593e-02, 4.28400934e-01, 7.51458824e-01],\n",
       "       [4.88375545e-01, 7.67754003e-08, 2.30010495e-01],\n",
       "       [5.15028842e-05, 6.75405787e-10, 6.21938050e-01],\n",
       "       [1.02864407e-01, 4.99392845e-05, 4.56493020e-01],\n",
       "       [5.68702817e-01, 2.84091044e-07, 2.68225253e-01],\n",
       "       [8.85419649e-06, 9.47021767e-11, 6.68801785e-01],\n",
       "       [9.78383119e-04, 3.41475825e-09, 5.72812080e-01],\n",
       "       [2.01642051e-01, 3.01750642e-05, 4.55964863e-01],\n",
       "       [5.70162907e-02, 5.61798594e-11, 1.27638644e-09],\n",
       "       [2.02489580e-04, 4.82833729e-09, 6.86679959e-01],\n",
       "       [2.76661412e-05, 1.16319586e-10, 4.54155892e-01],\n",
       "       [1.12785230e-04, 1.88999638e-09, 6.54021502e-01],\n",
       "       [2.45574000e-03, 2.63586799e-07, 5.92589140e-01],\n",
       "       [2.32309048e-05, 9.65127492e-11, 6.18299782e-01],\n",
       "       [6.06251299e-01, 1.08725530e-07, 2.41943255e-01],\n",
       "       [7.58867827e-04, 7.84572336e-08, 6.56984806e-01],\n",
       "       [3.45234245e-01, 1.53232786e-08, 1.98043540e-01],\n",
       "       [5.67192197e-01, 2.90976487e-07, 2.65289158e-01],\n",
       "       [6.79754303e-05, 7.44505402e-10, 6.70445979e-01],\n",
       "       [5.20696878e-01, 8.05725563e-07, 2.96595454e-01],\n",
       "       [6.06251299e-01, 1.08725530e-07, 2.41943255e-01],\n",
       "       [5.25071084e-01, 4.31659146e-07, 2.81523317e-01],\n",
       "       [5.90650197e-05, 5.06977016e-10, 5.54310858e-01],\n",
       "       [1.74407411e-04, 5.66292879e-09, 6.29518867e-01],\n",
       "       [9.14324264e-05, 1.44882584e-09, 6.42397404e-01],\n",
       "       [2.30619735e-05, 5.34602640e-11, 4.10243958e-01],\n",
       "       [7.14157504e-05, 6.61014632e-10, 6.65832281e-01],\n",
       "       [3.08154949e-06, 1.83273626e-19, 1.15958542e-01],\n",
       "       [5.33229504e-05, 4.23997698e-10, 5.10793269e-01],\n",
       "       [2.07013545e-05, 4.77931306e-11, 4.50453401e-01],\n",
       "       [6.16784275e-01, 7.38367163e-08, 2.28842750e-01],\n",
       "       [1.30327273e-04, 2.15988094e-09, 5.82309663e-01],\n",
       "       [1.31737843e-01, 1.09614653e-07, 2.72902220e-01],\n",
       "       [4.32732886e-05, 4.31935016e-10, 6.01086378e-01],\n",
       "       [3.40349311e-06, 6.04086447e-20, 6.32717162e-02],\n",
       "       [6.49952490e-05, 8.14593948e-10, 5.57895839e-01],\n",
       "       [3.30220044e-01, 4.85997589e-06, 3.72983336e-01],\n",
       "       [1.41590545e-02, 9.71223171e-11, 1.17987268e-01],\n",
       "       [1.68671264e-04, 3.97679134e-09, 6.24167919e-01],\n",
       "       [1.09995861e-04, 2.01013783e-09, 6.82429492e-01],\n",
       "       [7.42699439e-03, 2.24253336e-06, 5.83876133e-01],\n",
       "       [5.89379907e-01, 3.42250601e-08, 2.14308709e-01],\n",
       "       [4.04870212e-01, 2.98192185e-06, 3.42744708e-01],\n",
       "       [1.45219788e-02, 1.26188070e-05, 5.72871804e-01],\n",
       "       [3.10286611e-01, 2.91414342e-08, 2.12633505e-01],\n",
       "       [7.95673463e-04, 8.24468884e-08, 6.61184549e-01],\n",
       "       [5.68702817e-01, 2.84091044e-07, 2.68225253e-01],\n",
       "       [3.82521612e-05, 3.55902308e-10, 6.35558069e-01],\n",
       "       [1.16285205e-01, 3.95509794e-08, 2.41667792e-01],\n",
       "       [6.57070559e-05, 9.70098113e-10, 6.28473222e-01],\n",
       "       [7.39695824e-05, 5.11324705e-10, 6.75319791e-01],\n",
       "       [5.20696878e-01, 8.05725563e-07, 2.96595454e-01],\n",
       "       [1.93906084e-01, 3.02988265e-05, 4.38921511e-01],\n",
       "       [2.73038586e-05, 1.21911189e-10, 4.51395333e-01],\n",
       "       [9.00688171e-02, 4.94377273e-05, 4.47421640e-01],\n",
       "       [1.83414595e-05, 4.13082936e-11, 5.82927465e-01],\n",
       "       [6.11852386e-07, 2.70477155e-16, 2.10633010e-01],\n",
       "       [6.66225003e-03, 2.08347660e-06, 5.89787126e-01],\n",
       "       [4.47327584e-01, 8.15788610e-07, 3.11661720e-01],\n",
       "       [1.31737843e-01, 1.09614653e-07, 2.72902191e-01],\n",
       "       [2.26407610e-05, 1.09517104e-10, 5.09919107e-01],\n",
       "       [2.85941474e-06, 1.68565595e-17, 1.19194493e-01],\n",
       "       [5.32951453e-05, 4.23522439e-10, 5.10775149e-01],\n",
       "       [6.00217718e-05, 7.79344034e-10, 6.01914942e-01],\n",
       "       [1.64081808e-02, 2.94683433e-09, 3.82469118e-01],\n",
       "       [1.94480563e-05, 5.48636969e-11, 4.83217418e-01],\n",
       "       [3.15631092e-01, 7.17702915e-06, 3.78522992e-01],\n",
       "       [2.78972948e-06, 5.82813355e-12, 3.97544384e-01],\n",
       "       [8.81868750e-02, 8.58340791e-05, 5.08356392e-01],\n",
       "       [6.59427093e-03, 2.92180744e-06, 5.95313370e-01],\n",
       "       [5.15948892e-01, 1.02407921e-06, 3.01151037e-01],\n",
       "       [1.94378590e-05, 9.22298626e-11, 5.46433032e-01],\n",
       "       [1.63574904e-01, 1.70087496e-05, 4.15232003e-01],\n",
       "       [5.25071084e-01, 4.31659146e-07, 2.81523317e-01],\n",
       "       [2.71047193e-05, 1.60508037e-10, 5.61104000e-01],\n",
       "       [2.71336057e-06, 2.64851753e-13, 4.43300813e-01],\n",
       "       [1.60253868e-01, 1.00999323e-05, 4.10175532e-01],\n",
       "       [3.99210967e-06, 4.73594557e-19, 8.48179683e-02],\n",
       "       [2.28684908e-03, 4.06449004e-07, 6.17396951e-01],\n",
       "       [1.07425628e-02, 5.43855822e-06, 5.76855600e-01],\n",
       "       [5.01497379e-06, 7.58743925e-13, 4.78759199e-01],\n",
       "       [4.07071143e-01, 2.89701120e-07, 2.97666758e-01],\n",
       "       [3.33538234e-01, 3.62861397e-06, 3.57365251e-01],\n",
       "       [9.14324264e-05, 1.44882584e-09, 6.42397404e-01],\n",
       "       [1.97244619e-04, 4.88966156e-09, 6.69386506e-01],\n",
       "       [5.20696878e-01, 8.05725563e-07, 2.96595454e-01],\n",
       "       [2.45831519e-01, 1.27779049e-05, 4.09665287e-01],\n",
       "       [1.96000428e-06, 1.80169489e-19, 1.30355701e-01],\n",
       "       [3.23455861e-05, 3.36944014e-11, 6.20017290e-01],\n",
       "       [5.25071084e-01, 4.31659146e-07, 2.81523317e-01],\n",
       "       [2.19897628e-01, 2.22410490e-05, 4.32076246e-01],\n",
       "       [1.93906084e-01, 3.02988265e-05, 4.38921511e-01],\n",
       "       [4.93417591e-01, 2.57607731e-08, 2.26727843e-01],\n",
       "       [3.33963435e-05, 2.38231157e-10, 4.69053030e-01],\n",
       "       [4.57410388e-05, 4.19242641e-10, 6.21582806e-01],\n",
       "       [2.00775042e-01, 2.91454980e-05, 4.45010960e-01],\n",
       "       [1.08670141e-03, 6.86993218e-08, 6.30725324e-01],\n",
       "       [4.57410388e-05, 4.19242641e-10, 6.21582806e-01],\n",
       "       [2.97416022e-06, 8.95829241e-18, 1.07579909e-01],\n",
       "       [5.68702817e-01, 2.84091044e-07, 2.68225253e-01],\n",
       "       [2.41397138e-05, 5.33700324e-21, 5.24620479e-03],\n",
       "       [1.55249640e-04, 4.79589168e-09, 5.98280549e-01],\n",
       "       [5.01795769e-01, 6.17897456e-07, 2.94056833e-01],\n",
       "       [4.58888821e-02, 5.28311939e-04, 6.02289438e-01],\n",
       "       [4.22015873e-05, 2.62207256e-10, 4.50935394e-01],\n",
       "       [2.77419113e-05, 1.33523912e-11, 1.21405989e-01],\n",
       "       [6.06251299e-01, 1.08725530e-07, 2.41943255e-01],\n",
       "       [5.68702817e-01, 2.84091044e-07, 2.68225253e-01],\n",
       "       [5.20696878e-01, 8.05725563e-07, 2.96595454e-01],\n",
       "       [5.33229504e-05, 4.23997698e-10, 5.10793269e-01],\n",
       "       [1.27732873e-01, 9.24876076e-05, 4.85563517e-01],\n",
       "       [1.44363628e-04, 3.44899242e-09, 5.65261543e-01],\n",
       "       [1.45219788e-02, 1.26188070e-05, 5.72871804e-01],\n",
       "       [5.25071084e-01, 4.31659146e-07, 2.81523317e-01],\n",
       "       [1.93906084e-01, 3.02988265e-05, 4.38921511e-01],\n",
       "       [6.10674124e-06, 3.08162766e-11, 6.25010073e-01],\n",
       "       [5.68702817e-01, 2.84091044e-07, 2.68225253e-01],\n",
       "       [3.05796832e-01, 2.04591501e-07, 3.09608579e-01],\n",
       "       [6.59877628e-07, 3.87689018e-16, 2.19139472e-01],\n",
       "       [1.45612576e-04, 1.89255411e-09, 6.84495091e-01],\n",
       "       [1.52922620e-03, 3.21097730e-07, 6.40768230e-01],\n",
       "       [4.34059910e-02, 3.74273426e-04, 5.85647225e-01],\n",
       "       [4.47315514e-01, 8.15936460e-07, 3.11668605e-01],\n",
       "       [1.53660312e-06, 1.71521949e-19, 1.00742862e-01],\n",
       "       [1.19620745e-05, 5.71743833e-11, 5.55636287e-01],\n",
       "       [1.93906084e-01, 3.02988265e-05, 4.38921511e-01],\n",
       "       [2.62953192e-01, 1.26294253e-05, 4.06204313e-01],\n",
       "       [1.82150334e-01, 2.96448288e-05, 4.43041325e-01],\n",
       "       [1.90090970e-04, 1.42769219e-09, 6.14525616e-01],\n",
       "       [4.71670792e-05, 2.04366191e-10, 6.64037108e-01],\n",
       "       [7.97840185e-05, 1.05327658e-09, 6.75555527e-01],\n",
       "       [5.45621078e-05, 7.62361452e-10, 6.63564980e-01],\n",
       "       [1.14913672e-01, 1.02297323e-04, 4.62633431e-01],\n",
       "       [1.93906084e-01, 3.02988265e-05, 4.38921511e-01],\n",
       "       [1.35450631e-01, 6.33229065e-05, 4.75135028e-01],\n",
       "       [2.01521871e-05, 5.26457974e-11, 4.60233092e-01],\n",
       "       [1.23947356e-02, 1.53334768e-05, 6.03555560e-01],\n",
       "       [5.01354396e-01, 1.55063526e-06, 3.03587705e-01],\n",
       "       [3.10423406e-04, 5.03525355e-09, 6.33535445e-01],\n",
       "       [4.79634264e-06, 7.77130706e-14, 3.97071302e-01],\n",
       "       [5.20509839e-01, 1.86061641e-07, 2.64214963e-01],\n",
       "       [4.65516678e-05, 4.63478769e-11, 1.71557128e-01],\n",
       "       [6.80594239e-03, 6.62186252e-08, 2.42545247e-01],\n",
       "       [2.00714003e-05, 9.17774745e-11, 5.30688524e-01],\n",
       "       [3.05131972e-01, 3.32194463e-06, 3.56496215e-01],\n",
       "       [7.83414580e-05, 6.61456001e-10, 6.80429101e-01],\n",
       "       [1.40859765e-05, 3.48682992e-11, 4.46967661e-01],\n",
       "       [2.78394373e-06, 4.09667959e-12, 4.53750044e-01],\n",
       "       [6.07550442e-01, 5.06619813e-08, 2.20578671e-01],\n",
       "       [4.74163971e-06, 1.46078375e-11, 3.85040522e-01],\n",
       "       [5.20696878e-01, 8.05725563e-07, 2.96595454e-01],\n",
       "       [1.26225539e-04, 2.55704791e-09, 6.08563483e-01],\n",
       "       [2.56819430e-06, 5.94186064e-19, 8.72231647e-02],\n",
       "       [4.48905587e-01, 1.24950952e-06, 3.20635170e-01],\n",
       "       [1.21529483e-04, 1.58647517e-09, 6.52877033e-01],\n",
       "       [1.37163356e-01, 2.35431871e-05, 4.33569133e-01],\n",
       "       [2.20115999e-05, 8.56418478e-11, 6.09917879e-01],\n",
       "       [3.90976012e-01, 3.50175107e-08, 2.30177015e-01],\n",
       "       [4.89908665e-01, 1.37726355e-08, 2.06835628e-01],\n",
       "       [4.94843807e-05, 8.06617204e-11, 1.93868056e-01],\n",
       "       [5.20696878e-01, 8.05725563e-07, 2.96595454e-01],\n",
       "       [3.17648113e-01, 5.09599840e-06, 3.70641142e-01],\n",
       "       [5.63990852e-06, 1.36528369e-17, 1.38988137e-01],\n",
       "       [2.01161988e-02, 6.01904540e-05, 5.83367765e-01],\n",
       "       [2.00891125e-04, 6.01434014e-09, 6.15888357e-01],\n",
       "       [2.45929778e-06, 4.16413189e-19, 1.56230494e-01],\n",
       "       [5.33229504e-05, 4.23997698e-10, 5.10793269e-01],\n",
       "       [2.19054273e-04, 6.26025010e-09, 6.74228907e-01],\n",
       "       [5.19903779e-01, 4.30102176e-07, 2.78173059e-01],\n",
       "       [2.03528161e-05, 9.65705640e-11, 5.33457339e-01],\n",
       "       [1.62958575e-03, 1.74931269e-08, 5.68925142e-01],\n",
       "       [3.79076519e-04, 7.49628359e-09, 5.94748855e-01],\n",
       "       [4.85757142e-02, 4.05975588e-05, 4.95607108e-01],\n",
       "       [5.68702817e-01, 2.84091044e-07, 2.68225253e-01],\n",
       "       [6.00217718e-05, 7.79344034e-10, 6.01914942e-01],\n",
       "       [2.45535603e-06, 4.47894520e-19, 8.55751187e-02],\n",
       "       [3.30354691e-01, 4.85060355e-06, 3.72915447e-01],\n",
       "       [1.13677159e-02, 4.30150529e-08, 2.54266173e-01],\n",
       "       [6.06251299e-01, 1.08725530e-07, 2.41943255e-01],\n",
       "       [2.09458679e-01, 8.27054691e-09, 2.06702650e-01],\n",
       "       [1.15970843e-01, 8.48236041e-08, 2.50069678e-01],\n",
       "       [2.38835454e-01, 1.60660711e-08, 2.16863587e-01],\n",
       "       [4.21059212e-06, 1.62805047e-18, 8.70506614e-02],\n",
       "       [3.11166644e-01, 7.35014191e-06, 3.77161324e-01],\n",
       "       [3.15301331e-05, 1.55683411e-10, 3.82122844e-01],\n",
       "       [3.21088810e-05, 1.93247349e-10, 4.28934813e-01],\n",
       "       [1.93906084e-01, 3.02988265e-05, 4.38921511e-01],\n",
       "       [2.28684908e-03, 4.06449004e-07, 6.17396951e-01],\n",
       "       [1.88879669e-01, 2.20055572e-05, 4.29185659e-01],\n",
       "       [6.07974589e-01, 5.18748706e-08, 2.21337080e-01],\n",
       "       [5.34506841e-03, 1.59087872e-08, 2.11630121e-01],\n",
       "       [3.79419689e-05, 3.32060934e-10, 6.15705729e-01],\n",
       "       [1.59413794e-05, 1.05110455e-10, 6.19182885e-01],\n",
       "       [4.07071143e-01, 2.89701120e-07, 2.97666758e-01],\n",
       "       [8.31132202e-05, 9.46630441e-10, 6.48595035e-01],\n",
       "       [4.19410499e-05, 2.50393761e-10, 5.00393331e-01],\n",
       "       [5.05126554e-05, 3.71582154e-10, 6.78079903e-01],\n",
       "       [2.02489580e-04, 4.82833729e-09, 6.86679959e-01],\n",
       "       [1.93906084e-01, 3.02988265e-05, 4.38921511e-01],\n",
       "       [9.69974935e-05, 1.32670042e-09, 6.61177754e-01],\n",
       "       [1.31845945e-05, 1.21758778e-17, 1.29576266e-01],\n",
       "       [2.41298531e-03, 1.72838827e-12, 2.65021712e-01],\n",
       "       [9.99329677e-06, 3.23891203e-19, 7.78072849e-02],\n",
       "       [4.94846099e-05, 8.06651065e-11, 1.93869531e-01],\n",
       "       [1.82107896e-01, 2.96404196e-05, 4.43045676e-01],\n",
       "       [1.93906084e-01, 3.02988265e-05, 4.38921511e-01],\n",
       "       [5.68702817e-01, 2.84091044e-07, 2.68225253e-01],\n",
       "       [2.71162253e-06, 2.07955261e-19, 1.49298325e-01],\n",
       "       [2.55300638e-05, 1.08461906e-10, 4.71796572e-01],\n",
       "       [4.65923513e-05, 1.00259082e-13, 1.52799174e-01],\n",
       "       [6.46046537e-04, 2.93116837e-08, 6.52474701e-01],\n",
       "       [3.88377726e-01, 6.56483152e-08, 2.58411855e-01],\n",
       "       [3.17648113e-01, 5.09599840e-06, 3.70641142e-01],\n",
       "       [1.36268340e-04, 3.03154613e-09, 6.41053855e-01],\n",
       "       [5.77693820e-01, 1.50203718e-07, 2.50515223e-01],\n",
       "       [2.29520395e-01, 1.39212098e-05, 4.07991469e-01],\n",
       "       [8.36427498e-05, 2.87218027e-10, 6.03692353e-01],\n",
       "       [4.48905587e-01, 1.24950952e-06, 3.20635170e-01],\n",
       "       [1.57671988e-01, 6.51424088e-08, 2.15799496e-01],\n",
       "       [2.46679374e-05, 1.58239376e-11, 6.00437760e-01],\n",
       "       [3.15301659e-05, 1.55683716e-10, 3.82122338e-01],\n",
       "       [7.93500394e-02, 2.51635823e-09, 1.90135181e-01],\n",
       "       [4.45045953e-05, 9.63492341e-11, 2.43826360e-01],\n",
       "       [5.25071084e-01, 4.31659146e-07, 2.81523317e-01],\n",
       "       [3.50962591e-06, 2.08010811e-19, 4.28521112e-02],\n",
       "       [1.82107896e-01, 2.96404196e-05, 4.43045676e-01]], dtype=float32)"
      ]
     },
     "execution_count": 98,
     "metadata": {},
     "output_type": "execute_result"
    }
   ],
   "source": [
    "y_p"
   ]
  },
  {
   "cell_type": "code",
   "execution_count": 75,
   "metadata": {},
   "outputs": [],
   "source": [
    "model.save(\"mark_nn_test_90_96_to_test_2.h5\")"
   ]
  },
  {
   "cell_type": "code",
   "execution_count": 315,
   "metadata": {},
   "outputs": [],
   "source": [
    "model.save_weights(\"mark_nn_test_87_W.h5\")"
   ]
  },
  {
   "cell_type": "code",
   "execution_count": null,
   "metadata": {},
   "outputs": [],
   "source": [
    "\n",
    "\n"
   ]
  },
  {
   "cell_type": "code",
   "execution_count": null,
   "metadata": {},
   "outputs": [],
   "source": []
  },
  {
   "cell_type": "code",
   "execution_count": 329,
   "metadata": {},
   "outputs": [],
   "source": [
    "m1_val = pd.read_csv(\"./1/1_1.csv\")\n",
    "m2_val = pd.read_csv(\"./2/2_1.csv\")\n",
    "m3_val = pd.read_csv(\"./3/3_1.csv\")\n"
   ]
  },
  {
   "cell_type": "code",
   "execution_count": 330,
   "metadata": {},
   "outputs": [
    {
     "data": {
      "text/plain": [
       "Index(['Unnamed: 0', 'emg_0', 'emg_1', 'emg_2', 'emg_ampl_0', 'emg_ampl_1',\n",
       "       'emg_ampl_2', 'emg_max_0', 'emg_max_1', 'emg_max_2', 'emg_med_0',\n",
       "       'emg_med_1', 'emg_med_2', 'emg_min_0', 'emg_min_1', 'emg_min_2',\n",
       "       'emg_prev_0_0', 'emg_prev_0_1', 'emg_prev_0_10', 'emg_prev_0_11',\n",
       "       'emg_prev_0_12', 'emg_prev_0_13', 'emg_prev_0_14', 'emg_prev_0_15',\n",
       "       'emg_prev_0_16', 'emg_prev_0_17', 'emg_prev_0_18', 'emg_prev_0_19',\n",
       "       'emg_prev_0_2', 'emg_prev_0_3', 'emg_prev_0_4', 'emg_prev_0_5',\n",
       "       'emg_prev_0_6', 'emg_prev_0_7', 'emg_prev_0_8', 'emg_prev_0_9',\n",
       "       'emg_prev_1_0', 'emg_prev_1_1', 'emg_prev_1_10', 'emg_prev_1_11',\n",
       "       'emg_prev_1_12', 'emg_prev_1_13', 'emg_prev_1_14', 'emg_prev_1_15',\n",
       "       'emg_prev_1_16', 'emg_prev_1_17', 'emg_prev_1_18', 'emg_prev_1_19',\n",
       "       'emg_prev_1_2', 'emg_prev_1_3', 'emg_prev_1_4', 'emg_prev_1_5',\n",
       "       'emg_prev_1_6', 'emg_prev_1_7', 'emg_prev_1_8', 'emg_prev_1_9',\n",
       "       'emg_prev_2_0', 'emg_prev_2_1', 'emg_prev_2_10', 'emg_prev_2_11',\n",
       "       'emg_prev_2_12', 'emg_prev_2_13', 'emg_prev_2_14', 'emg_prev_2_15',\n",
       "       'emg_prev_2_16', 'emg_prev_2_17', 'emg_prev_2_18', 'emg_prev_2_19',\n",
       "       'emg_prev_2_2', 'emg_prev_2_3', 'emg_prev_2_4', 'emg_prev_2_5',\n",
       "       'emg_prev_2_6', 'emg_prev_2_7', 'emg_prev_2_8', 'emg_prev_2_9', 'type',\n",
       "       '0', '1', '2'],\n",
       "      dtype='object')"
      ]
     },
     "execution_count": 330,
     "metadata": {},
     "output_type": "execute_result"
    }
   ],
   "source": [
    "data.columns"
   ]
  },
  {
   "cell_type": "code",
   "execution_count": 331,
   "metadata": {},
   "outputs": [
    {
     "data": {
      "text/plain": [
       "<matplotlib.legend.Legend at 0x23ad0636b00>"
      ]
     },
     "execution_count": 331,
     "metadata": {},
     "output_type": "execute_result"
    },
    {
     "data": {
      "image/png": "[encoded data removed]",
      "text/plain": [
       "<Figure size 432x288 with 1 Axes>"
      ]
     },
     "metadata": {
      "needs_background": "light"
     },
     "output_type": "display_data"
    }
   ],
   "source": [
    "data.loc[(data[\"type\"] == 0), \"emg_2\"].hist(bins=50, alpha=0.5)\n",
    "data.loc[(data[\"type\"] == 1), \"emg_2\"].hist(bins=50, alpha=0.5)\n",
    "data.loc[(data[\"type\"] == 2), \"emg_2\"].hist(bins=50, alpha=0.5)\n",
    "legend(['low', 'm', 'high'])\n",
    "# title(hero_name)"
   ]
  },
  {
   "cell_type": "code",
   "execution_count": 332,
   "metadata": {},
   "outputs": [
    {
     "data": {
      "text/plain": [
       "1      518.0\n",
       "2      512.0\n",
       "3      512.0\n",
       "4      500.0\n",
       "5      509.0\n",
       "6      512.0\n",
       "7      502.0\n",
       "8      513.0\n",
       "9      505.0\n",
       "10     518.0\n",
       "11     508.0\n",
       "12     518.0\n",
       "13     516.0\n",
       "14     500.0\n",
       "15     509.0\n",
       "16     499.0\n",
       "17     508.0\n",
       "18     498.0\n",
       "19     494.0\n",
       "20     497.0\n",
       "21     512.0\n",
       "22     505.0\n",
       "23     500.0\n",
       "24     510.0\n",
       "25     498.0\n",
       "26     518.0\n",
       "27     492.0\n",
       "28     506.0\n",
       "29     512.0\n",
       "30     542.0\n",
       "       ...  \n",
       "396    502.0\n",
       "397    508.0\n",
       "398    502.0\n",
       "399    507.0\n",
       "400    501.0\n",
       "401    503.0\n",
       "402    505.0\n",
       "403    505.0\n",
       "404    507.0\n",
       "405    506.0\n",
       "406    516.0\n",
       "407    509.0\n",
       "408    502.0\n",
       "409    518.0\n",
       "410    514.0\n",
       "411    517.0\n",
       "412    512.0\n",
       "413    518.0\n",
       "414    516.0\n",
       "415    510.0\n",
       "416    515.0\n",
       "417    518.0\n",
       "418    505.0\n",
       "419    514.0\n",
       "420    505.0\n",
       "421    510.0\n",
       "422    505.0\n",
       "423    504.0\n",
       "424    504.0\n",
       "425    498.0\n",
       "Name: emg_0, Length: 4219, dtype: float64"
      ]
     },
     "execution_count": 332,
     "metadata": {},
     "output_type": "execute_result"
    }
   ],
   "source": [
    "data[\"emg_0\"]"
   ]
  },
  {
   "cell_type": "code",
   "execution_count": 45,
   "metadata": {},
   "outputs": [
    {
     "ename": "KeyError",
     "evalue": "'[0] not found in axis'",
     "output_type": "error",
     "traceback": [
      "\u001b[1;31m---------------------------------------------------------------------------\u001b[0m",
      "\u001b[1;31mKeyError\u001b[0m                                  Traceback (most recent call last)",
      "\u001b[1;32m<ipython-input-45-3af8fff8c79e>\u001b[0m in \u001b[0;36m<module>\u001b[1;34m\u001b[0m\n\u001b[1;32m----> 1\u001b[1;33m \u001b[0mm1_val\u001b[0m \u001b[1;33m=\u001b[0m \u001b[0mm1_val\u001b[0m\u001b[1;33m.\u001b[0m\u001b[0mdrop\u001b[0m\u001b[1;33m(\u001b[0m\u001b[1;36m0\u001b[0m\u001b[1;33m,\u001b[0m \u001b[0maxis\u001b[0m\u001b[1;33m=\u001b[0m\u001b[1;36m0\u001b[0m\u001b[1;33m)\u001b[0m\u001b[1;33m\u001b[0m\u001b[1;33m\u001b[0m\u001b[0m\n\u001b[0m\u001b[0;32m      2\u001b[0m \u001b[0mm2_val\u001b[0m \u001b[1;33m=\u001b[0m \u001b[0mm2_val\u001b[0m\u001b[1;33m.\u001b[0m\u001b[0mdrop\u001b[0m\u001b[1;33m(\u001b[0m\u001b[1;36m0\u001b[0m\u001b[1;33m,\u001b[0m \u001b[0maxis\u001b[0m\u001b[1;33m=\u001b[0m\u001b[1;36m0\u001b[0m\u001b[1;33m)\u001b[0m\u001b[1;33m\u001b[0m\u001b[1;33m\u001b[0m\u001b[0m\n\u001b[0;32m      3\u001b[0m \u001b[0mm3_val\u001b[0m \u001b[1;33m=\u001b[0m \u001b[0mm3_val\u001b[0m\u001b[1;33m.\u001b[0m\u001b[0mdrop\u001b[0m\u001b[1;33m(\u001b[0m\u001b[1;36m0\u001b[0m\u001b[1;33m,\u001b[0m \u001b[0maxis\u001b[0m\u001b[1;33m=\u001b[0m\u001b[1;36m0\u001b[0m\u001b[1;33m)\u001b[0m\u001b[1;33m\u001b[0m\u001b[1;33m\u001b[0m\u001b[0m\n",
      "\u001b[1;32m~\\Anaconda3\\lib\\site-packages\\pandas\\core\\frame.py\u001b[0m in \u001b[0;36mdrop\u001b[1;34m(self, labels, axis, index, columns, level, inplace, errors)\u001b[0m\n\u001b[0;32m   3695\u001b[0m                                            \u001b[0mindex\u001b[0m\u001b[1;33m=\u001b[0m\u001b[0mindex\u001b[0m\u001b[1;33m,\u001b[0m \u001b[0mcolumns\u001b[0m\u001b[1;33m=\u001b[0m\u001b[0mcolumns\u001b[0m\u001b[1;33m,\u001b[0m\u001b[1;33m\u001b[0m\u001b[1;33m\u001b[0m\u001b[0m\n\u001b[0;32m   3696\u001b[0m                                            \u001b[0mlevel\u001b[0m\u001b[1;33m=\u001b[0m\u001b[0mlevel\u001b[0m\u001b[1;33m,\u001b[0m \u001b[0minplace\u001b[0m\u001b[1;33m=\u001b[0m\u001b[0minplace\u001b[0m\u001b[1;33m,\u001b[0m\u001b[1;33m\u001b[0m\u001b[1;33m\u001b[0m\u001b[0m\n\u001b[1;32m-> 3697\u001b[1;33m                                            errors=errors)\n\u001b[0m\u001b[0;32m   3698\u001b[0m \u001b[1;33m\u001b[0m\u001b[0m\n\u001b[0;32m   3699\u001b[0m     @rewrite_axis_style_signature('mapper', [('copy', True),\n",
      "\u001b[1;32m~\\Anaconda3\\lib\\site-packages\\pandas\\core\\generic.py\u001b[0m in \u001b[0;36mdrop\u001b[1;34m(self, labels, axis, index, columns, level, inplace, errors)\u001b[0m\n\u001b[0;32m   3109\u001b[0m         \u001b[1;32mfor\u001b[0m \u001b[0maxis\u001b[0m\u001b[1;33m,\u001b[0m \u001b[0mlabels\u001b[0m \u001b[1;32min\u001b[0m \u001b[0maxes\u001b[0m\u001b[1;33m.\u001b[0m\u001b[0mitems\u001b[0m\u001b[1;33m(\u001b[0m\u001b[1;33m)\u001b[0m\u001b[1;33m:\u001b[0m\u001b[1;33m\u001b[0m\u001b[1;33m\u001b[0m\u001b[0m\n\u001b[0;32m   3110\u001b[0m             \u001b[1;32mif\u001b[0m \u001b[0mlabels\u001b[0m \u001b[1;32mis\u001b[0m \u001b[1;32mnot\u001b[0m \u001b[1;32mNone\u001b[0m\u001b[1;33m:\u001b[0m\u001b[1;33m\u001b[0m\u001b[1;33m\u001b[0m\u001b[0m\n\u001b[1;32m-> 3111\u001b[1;33m                 \u001b[0mobj\u001b[0m \u001b[1;33m=\u001b[0m \u001b[0mobj\u001b[0m\u001b[1;33m.\u001b[0m\u001b[0m_drop_axis\u001b[0m\u001b[1;33m(\u001b[0m\u001b[0mlabels\u001b[0m\u001b[1;33m,\u001b[0m \u001b[0maxis\u001b[0m\u001b[1;33m,\u001b[0m \u001b[0mlevel\u001b[0m\u001b[1;33m=\u001b[0m\u001b[0mlevel\u001b[0m\u001b[1;33m,\u001b[0m \u001b[0merrors\u001b[0m\u001b[1;33m=\u001b[0m\u001b[0merrors\u001b[0m\u001b[1;33m)\u001b[0m\u001b[1;33m\u001b[0m\u001b[1;33m\u001b[0m\u001b[0m\n\u001b[0m\u001b[0;32m   3112\u001b[0m \u001b[1;33m\u001b[0m\u001b[0m\n\u001b[0;32m   3113\u001b[0m         \u001b[1;32mif\u001b[0m \u001b[0minplace\u001b[0m\u001b[1;33m:\u001b[0m\u001b[1;33m\u001b[0m\u001b[1;33m\u001b[0m\u001b[0m\n",
      "\u001b[1;32m~\\Anaconda3\\lib\\site-packages\\pandas\\core\\generic.py\u001b[0m in \u001b[0;36m_drop_axis\u001b[1;34m(self, labels, axis, level, errors)\u001b[0m\n\u001b[0;32m   3141\u001b[0m                 \u001b[0mnew_axis\u001b[0m \u001b[1;33m=\u001b[0m \u001b[0maxis\u001b[0m\u001b[1;33m.\u001b[0m\u001b[0mdrop\u001b[0m\u001b[1;33m(\u001b[0m\u001b[0mlabels\u001b[0m\u001b[1;33m,\u001b[0m \u001b[0mlevel\u001b[0m\u001b[1;33m=\u001b[0m\u001b[0mlevel\u001b[0m\u001b[1;33m,\u001b[0m \u001b[0merrors\u001b[0m\u001b[1;33m=\u001b[0m\u001b[0merrors\u001b[0m\u001b[1;33m)\u001b[0m\u001b[1;33m\u001b[0m\u001b[1;33m\u001b[0m\u001b[0m\n\u001b[0;32m   3142\u001b[0m             \u001b[1;32melse\u001b[0m\u001b[1;33m:\u001b[0m\u001b[1;33m\u001b[0m\u001b[1;33m\u001b[0m\u001b[0m\n\u001b[1;32m-> 3143\u001b[1;33m                 \u001b[0mnew_axis\u001b[0m \u001b[1;33m=\u001b[0m \u001b[0maxis\u001b[0m\u001b[1;33m.\u001b[0m\u001b[0mdrop\u001b[0m\u001b[1;33m(\u001b[0m\u001b[0mlabels\u001b[0m\u001b[1;33m,\u001b[0m \u001b[0merrors\u001b[0m\u001b[1;33m=\u001b[0m\u001b[0merrors\u001b[0m\u001b[1;33m)\u001b[0m\u001b[1;33m\u001b[0m\u001b[1;33m\u001b[0m\u001b[0m\n\u001b[0m\u001b[0;32m   3144\u001b[0m             \u001b[0mresult\u001b[0m \u001b[1;33m=\u001b[0m \u001b[0mself\u001b[0m\u001b[1;33m.\u001b[0m\u001b[0mreindex\u001b[0m\u001b[1;33m(\u001b[0m\u001b[1;33m**\u001b[0m\u001b[1;33m{\u001b[0m\u001b[0maxis_name\u001b[0m\u001b[1;33m:\u001b[0m \u001b[0mnew_axis\u001b[0m\u001b[1;33m}\u001b[0m\u001b[1;33m)\u001b[0m\u001b[1;33m\u001b[0m\u001b[1;33m\u001b[0m\u001b[0m\n\u001b[0;32m   3145\u001b[0m \u001b[1;33m\u001b[0m\u001b[0m\n",
      "\u001b[1;32m~\\Anaconda3\\lib\\site-packages\\pandas\\core\\indexes\\base.py\u001b[0m in \u001b[0;36mdrop\u001b[1;34m(self, labels, errors)\u001b[0m\n\u001b[0;32m   4402\u001b[0m             \u001b[1;32mif\u001b[0m \u001b[0merrors\u001b[0m \u001b[1;33m!=\u001b[0m \u001b[1;34m'ignore'\u001b[0m\u001b[1;33m:\u001b[0m\u001b[1;33m\u001b[0m\u001b[1;33m\u001b[0m\u001b[0m\n\u001b[0;32m   4403\u001b[0m                 raise KeyError(\n\u001b[1;32m-> 4404\u001b[1;33m                     '{} not found in axis'.format(labels[mask]))\n\u001b[0m\u001b[0;32m   4405\u001b[0m             \u001b[0mindexer\u001b[0m \u001b[1;33m=\u001b[0m \u001b[0mindexer\u001b[0m\u001b[1;33m[\u001b[0m\u001b[1;33m~\u001b[0m\u001b[0mmask\u001b[0m\u001b[1;33m]\u001b[0m\u001b[1;33m\u001b[0m\u001b[1;33m\u001b[0m\u001b[0m\n\u001b[0;32m   4406\u001b[0m         \u001b[1;32mreturn\u001b[0m \u001b[0mself\u001b[0m\u001b[1;33m.\u001b[0m\u001b[0mdelete\u001b[0m\u001b[1;33m(\u001b[0m\u001b[0mindexer\u001b[0m\u001b[1;33m)\u001b[0m\u001b[1;33m\u001b[0m\u001b[1;33m\u001b[0m\u001b[0m\n",
      "\u001b[1;31mKeyError\u001b[0m: '[0] not found in axis'"
     ]
    }
   ],
   "source": [
    "m1_val = m1_val.drop(0, axis=0)\n",
    "m2_val = m2_val.drop(0, axis=0)\n",
    "m3_val = m3_val.drop(0, axis=0)"
   ]
  },
  {
   "cell_type": "code",
   "execution_count": 334,
   "metadata": {},
   "outputs": [],
   "source": [
    "m1_val[\"type\"] = 0\n",
    "m2_val[\"type\"] = 1\n",
    "m3_val[\"type\"] = 2"
   ]
  },
  {
   "cell_type": "code",
   "execution_count": 46,
   "metadata": {},
   "outputs": [
    {
     "name": "stderr",
     "output_type": "stream",
     "text": [
      "C:\\Users\\ws_robot\\Anaconda3\\lib\\site-packages\\ipykernel_launcher.py:1: FutureWarning: Sorting because non-concatenation axis is not aligned. A future version\n",
      "of pandas will change to not sort by default.\n",
      "\n",
      "To accept the future behavior, pass 'sort=False'.\n",
      "\n",
      "To retain the current behavior and silence the warning, pass 'sort=True'.\n",
      "\n",
      "  \"\"\"Entry point for launching an IPython kernel.\n"
     ]
    }
   ],
   "source": [
    "data_val = pd.concat([m1_val, m2_val, m3_val], axis=0)"
   ]
  },
  {
   "cell_type": "code",
   "execution_count": 47,
   "metadata": {},
   "outputs": [],
   "source": [
    "X_val = data_val.drop([\"Unnamed: 0\", \"type\"], axis=1)"
   ]
  },
  {
   "cell_type": "code",
   "execution_count": 48,
   "metadata": {},
   "outputs": [],
   "source": [
    "X_val = scalar.transform(X_val)"
   ]
  },
  {
   "cell_type": "code",
   "execution_count": 49,
   "metadata": {},
   "outputs": [
    {
     "data": {
      "text/plain": [
       "array([[0.0062312 , 0.66097561, 0.37962038, ..., 0.61238761, 0.61238761,\n",
       "        0.61044177],\n",
       "       [0.00795015, 0.68292683, 0.33566434, ..., 0.52847153, 0.52847153,\n",
       "        0.52610442],\n",
       "       [0.00795015, 0.68292683, 0.33566434, ..., 0.52847153, 0.37962038,\n",
       "        0.37650602],\n",
       "       ...,\n",
       "       [0.00558659, 0.6097561 , 0.53446553, ..., 0.52447552, 0.51148851,\n",
       "        0.50903614],\n",
       "       [0.00558659, 0.60731707, 0.51048951, ..., 0.51148851, 0.51148851,\n",
       "        0.50903614],\n",
       "       [0.00429738, 0.58292683, 0.51348651, ..., 0.51348651, 0.51348651,\n",
       "        0.53212851]])"
      ]
     },
     "execution_count": 49,
     "metadata": {},
     "output_type": "execute_result"
    }
   ],
   "source": [
    "X_val"
   ]
  },
  {
   "cell_type": "code",
   "execution_count": 50,
   "metadata": {},
   "outputs": [],
   "source": [
    "y_val = data_val[[\"type\"]]"
   ]
  },
  {
   "cell_type": "code",
   "execution_count": null,
   "metadata": {},
   "outputs": [],
   "source": []
  },
  {
   "cell_type": "code",
   "execution_count": 407,
   "metadata": {},
   "outputs": [],
   "source": [
    "from keras.models import load_model\n",
    "# del model\n",
    "model = load_model(\"mark_nn_test_87_2.h5\")"
   ]
  },
  {
   "cell_type": "code",
   "execution_count": 74,
   "metadata": {},
   "outputs": [
    {
     "data": {
      "text/plain": [
       "0.9629927594529365"
      ]
     },
     "execution_count": 74,
     "metadata": {},
     "output_type": "execute_result"
    }
   ],
   "source": [
    "y_p = model.predict(X_val)\n",
    "y = [ np.argmax(i) for i in y_p]\n",
    "accuracy_score(y_val[\"type\"], y)"
   ]
  },
  {
   "cell_type": "code",
   "execution_count": 342,
   "metadata": {},
   "outputs": [
    {
     "data": {
      "text/html": [
       "<div>\n",
       "<style scoped>\n",
       "    .dataframe tbody tr th:only-of-type {\n",
       "        vertical-align: middle;\n",
       "    }\n",
       "\n",
       "    .dataframe tbody tr th {\n",
       "        vertical-align: top;\n",
       "    }\n",
       "\n",
       "    .dataframe thead th {\n",
       "        text-align: right;\n",
       "    }\n",
       "</style>\n",
       "<table border=\"1\" class=\"dataframe\">\n",
       "  <thead>\n",
       "    <tr style=\"text-align: right;\">\n",
       "      <th></th>\n",
       "      <th>Unnamed: 0</th>\n",
       "      <th>emg_0</th>\n",
       "      <th>emg_1</th>\n",
       "      <th>emg_2</th>\n",
       "      <th>emg_ampl_0</th>\n",
       "      <th>emg_ampl_1</th>\n",
       "      <th>emg_ampl_2</th>\n",
       "      <th>emg_max_0</th>\n",
       "      <th>emg_max_1</th>\n",
       "      <th>emg_max_2</th>\n",
       "      <th>...</th>\n",
       "      <th>emg_prev_2_4</th>\n",
       "      <th>emg_prev_2_5</th>\n",
       "      <th>emg_prev_2_6</th>\n",
       "      <th>emg_prev_2_7</th>\n",
       "      <th>emg_prev_2_8</th>\n",
       "      <th>emg_prev_2_9</th>\n",
       "      <th>type</th>\n",
       "      <th>0</th>\n",
       "      <th>1</th>\n",
       "      <th>2</th>\n",
       "    </tr>\n",
       "  </thead>\n",
       "  <tbody>\n",
       "  </tbody>\n",
       "</table>\n",
       "<p>0 rows × 80 columns</p>\n",
       "</div>"
      ],
      "text/plain": [
       "Empty DataFrame\n",
       "Columns: [Unnamed: 0, emg_0, emg_1, emg_2, emg_ampl_0, emg_ampl_1, emg_ampl_2, emg_max_0, emg_max_1, emg_max_2, emg_med_0, emg_med_1, emg_med_2, emg_min_0, emg_min_1, emg_min_2, emg_prev_0_0, emg_prev_0_1, emg_prev_0_10, emg_prev_0_11, emg_prev_0_12, emg_prev_0_13, emg_prev_0_14, emg_prev_0_15, emg_prev_0_16, emg_prev_0_17, emg_prev_0_18, emg_prev_0_19, emg_prev_0_2, emg_prev_0_3, emg_prev_0_4, emg_prev_0_5, emg_prev_0_6, emg_prev_0_7, emg_prev_0_8, emg_prev_0_9, emg_prev_1_0, emg_prev_1_1, emg_prev_1_10, emg_prev_1_11, emg_prev_1_12, emg_prev_1_13, emg_prev_1_14, emg_prev_1_15, emg_prev_1_16, emg_prev_1_17, emg_prev_1_18, emg_prev_1_19, emg_prev_1_2, emg_prev_1_3, emg_prev_1_4, emg_prev_1_5, emg_prev_1_6, emg_prev_1_7, emg_prev_1_8, emg_prev_1_9, emg_prev_2_0, emg_prev_2_1, emg_prev_2_10, emg_prev_2_11, emg_prev_2_12, emg_prev_2_13, emg_prev_2_14, emg_prev_2_15, emg_prev_2_16, emg_prev_2_17, emg_prev_2_18, emg_prev_2_19, emg_prev_2_2, emg_prev_2_3, emg_prev_2_4, emg_prev_2_5, emg_prev_2_6, emg_prev_2_7, emg_prev_2_8, emg_prev_2_9, type, 0, 1, 2]\n",
       "Index: []\n",
       "\n",
       "[0 rows x 80 columns]"
      ]
     },
     "execution_count": 342,
     "metadata": {},
     "output_type": "execute_result"
    }
   ],
   "source": [
    "data.loc[(data['emg_2'] == 0) & (data['emg_2'] == 0)]"
   ]
  },
  {
   "cell_type": "code",
   "execution_count": null,
   "metadata": {},
   "outputs": [],
   "source": []
  }
 ],
 "metadata": {
  "kernelspec": {
   "display_name": "Python 3",
   "language": "python",
   "name": "python3"
  },
  "language_info": {
   "codemirror_mode": {
    "name": "ipython",
    "version": 3
   },
   "file_extension": ".py",
   "mimetype": "text/x-python",
   "name": "python",
   "nbconvert_exporter": "python",
   "pygments_lexer": "ipython3",
   "version": "3.7.1"
  }
 },
 "nbformat": 4,
 "nbformat_minor": 2
}
